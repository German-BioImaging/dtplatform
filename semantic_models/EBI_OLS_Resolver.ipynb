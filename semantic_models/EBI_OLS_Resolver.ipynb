{
 "cells": [
  {
   "cell_type": "code",
   "execution_count": 11,
   "metadata": {
    "collapsed": true
   },
   "outputs": [],
   "source": [
    "import json\n",
    "import requests\n",
    "import pandas as pd\n",
    "import xlrd\n",
    "import urllib.parse"
   ]
  },
  {
   "cell_type": "code",
   "execution_count": 51,
   "outputs": [
    {
     "data": {
      "text/plain": "      ID       Age Race           Ethnic Chemo  RESP        BMI Stage Grade  \\\n0    NaN       NaN  NaN              NaN   NaN   NaN        NaN   NaN   NaN   \n1    NaN       NaN  NaN              NaN   NaN   NaN        NaN   NaN   NaN   \n2    NaN       NaN  NaN              NaN   NaN   NaN        NaN   NaN   NaN   \n3    NaN       NaN  NaN              NaN   NaN   NaN        NaN   NaN   NaN   \n4    NaN       NaN  NaN              NaN   NaN   NaN        NaN   NaN   NaN   \n..   ...       ...  ...              ...   ...   ...        ...   ...   ...   \n103  COH  scRNAseq  NaN               na   NaN  none  DCIS/LCIS     y    54   \n104  COH  scRNAseq  NaN  post-recurrence    no  none       TNBC     p    49   \n105  COH  scRNAseq  NaN               na   NaN  none  DCIS/LCIS     p    57   \n106  LSU  scRNAseq  NaN              pre   NaN  none       TNBC     y    41   \n107  LSU  scRNAseq  NaN              pre   NaN  none       TNBC     y    45   \n\n                 LABC  ... Vital Status survival_2y survival_5y Gene Mutation  \\\n0                 NaN  ...          NaN         NaN         NaN           NaN   \n1                 NaN  ...          NaN         NaN         NaN           NaN   \n2                 NaN  ...          NaN         NaN         NaN           NaN   \n3                 NaN  ...          NaN         NaN         NaN           NaN   \n4                 NaN  ...          NaN         NaN         NaN           NaN   \n..                ...  ...          ...         ...         ...           ...   \n103                 A  ...          NaN         NaN         NaN           NaN   \n104             White  ...          NaN         NaN         NaN           NaN   \n105             White  ...          NaN         NaN         NaN           NaN   \n106  African American  ...          NaN         NaN         NaN           NaN   \n107  African American  ...          NaN         NaN         NaN           NaN   \n\n    Unnamed: 17 Unnamed: 18 Unnamed: 19 Unnamed: 20 Unnamed: 21 Unnamed: 22  \n0       1=CHEMO  0=NO CHEMO         NaN         NaN         NaN         NaN  \n1           NaN         NaN         NaN         NaN         NaN         NaN  \n2           NaN         NaN         NaN         NaN         NaN         NaN  \n3           NaN         NaN         NaN         NaN         NaN         NaN  \n4           NaN         NaN         NaN         NaN         NaN         NaN  \n..          ...         ...         ...         ...         ...         ...  \n103         NaN         NaN         NaN         NaN         NaN         NaN  \n104         NaN         NaN         NaN         NaN         NaN         NaN  \n105         NaN         NaN         NaN         NaN         NaN         NaN  \n106         NaN         NaN         NaN         NaN         NaN         NaN  \n107         NaN         NaN         NaN         NaN         NaN         NaN  \n\n[108 rows x 23 columns]",
      "text/html": "<div>\n<style scoped>\n    .dataframe tbody tr th:only-of-type {\n        vertical-align: middle;\n    }\n\n    .dataframe tbody tr th {\n        vertical-align: top;\n    }\n\n    .dataframe thead th {\n        text-align: right;\n    }\n</style>\n<table border=\"1\" class=\"dataframe\">\n  <thead>\n    <tr style=\"text-align: right;\">\n      <th></th>\n      <th>ID</th>\n      <th>Age</th>\n      <th>Race</th>\n      <th>Ethnic</th>\n      <th>Chemo</th>\n      <th>RESP</th>\n      <th>BMI</th>\n      <th>Stage</th>\n      <th>Grade</th>\n      <th>LABC</th>\n      <th>...</th>\n      <th>Vital Status</th>\n      <th>survival_2y</th>\n      <th>survival_5y</th>\n      <th>Gene Mutation</th>\n      <th>Unnamed: 17</th>\n      <th>Unnamed: 18</th>\n      <th>Unnamed: 19</th>\n      <th>Unnamed: 20</th>\n      <th>Unnamed: 21</th>\n      <th>Unnamed: 22</th>\n    </tr>\n  </thead>\n  <tbody>\n    <tr>\n      <th>0</th>\n      <td>NaN</td>\n      <td>NaN</td>\n      <td>NaN</td>\n      <td>NaN</td>\n      <td>NaN</td>\n      <td>NaN</td>\n      <td>NaN</td>\n      <td>NaN</td>\n      <td>NaN</td>\n      <td>NaN</td>\n      <td>...</td>\n      <td>NaN</td>\n      <td>NaN</td>\n      <td>NaN</td>\n      <td>NaN</td>\n      <td>1=CHEMO</td>\n      <td>0=NO CHEMO</td>\n      <td>NaN</td>\n      <td>NaN</td>\n      <td>NaN</td>\n      <td>NaN</td>\n    </tr>\n    <tr>\n      <th>1</th>\n      <td>NaN</td>\n      <td>NaN</td>\n      <td>NaN</td>\n      <td>NaN</td>\n      <td>NaN</td>\n      <td>NaN</td>\n      <td>NaN</td>\n      <td>NaN</td>\n      <td>NaN</td>\n      <td>NaN</td>\n      <td>...</td>\n      <td>NaN</td>\n      <td>NaN</td>\n      <td>NaN</td>\n      <td>NaN</td>\n      <td>NaN</td>\n      <td>NaN</td>\n      <td>NaN</td>\n      <td>NaN</td>\n      <td>NaN</td>\n      <td>NaN</td>\n    </tr>\n    <tr>\n      <th>2</th>\n      <td>NaN</td>\n      <td>NaN</td>\n      <td>NaN</td>\n      <td>NaN</td>\n      <td>NaN</td>\n      <td>NaN</td>\n      <td>NaN</td>\n      <td>NaN</td>\n      <td>NaN</td>\n      <td>NaN</td>\n      <td>...</td>\n      <td>NaN</td>\n      <td>NaN</td>\n      <td>NaN</td>\n      <td>NaN</td>\n      <td>NaN</td>\n      <td>NaN</td>\n      <td>NaN</td>\n      <td>NaN</td>\n      <td>NaN</td>\n      <td>NaN</td>\n    </tr>\n    <tr>\n      <th>3</th>\n      <td>NaN</td>\n      <td>NaN</td>\n      <td>NaN</td>\n      <td>NaN</td>\n      <td>NaN</td>\n      <td>NaN</td>\n      <td>NaN</td>\n      <td>NaN</td>\n      <td>NaN</td>\n      <td>NaN</td>\n      <td>...</td>\n      <td>NaN</td>\n      <td>NaN</td>\n      <td>NaN</td>\n      <td>NaN</td>\n      <td>NaN</td>\n      <td>NaN</td>\n      <td>NaN</td>\n      <td>NaN</td>\n      <td>NaN</td>\n      <td>NaN</td>\n    </tr>\n    <tr>\n      <th>4</th>\n      <td>NaN</td>\n      <td>NaN</td>\n      <td>NaN</td>\n      <td>NaN</td>\n      <td>NaN</td>\n      <td>NaN</td>\n      <td>NaN</td>\n      <td>NaN</td>\n      <td>NaN</td>\n      <td>NaN</td>\n      <td>...</td>\n      <td>NaN</td>\n      <td>NaN</td>\n      <td>NaN</td>\n      <td>NaN</td>\n      <td>NaN</td>\n      <td>NaN</td>\n      <td>NaN</td>\n      <td>NaN</td>\n      <td>NaN</td>\n      <td>NaN</td>\n    </tr>\n    <tr>\n      <th>...</th>\n      <td>...</td>\n      <td>...</td>\n      <td>...</td>\n      <td>...</td>\n      <td>...</td>\n      <td>...</td>\n      <td>...</td>\n      <td>...</td>\n      <td>...</td>\n      <td>...</td>\n      <td>...</td>\n      <td>...</td>\n      <td>...</td>\n      <td>...</td>\n      <td>...</td>\n      <td>...</td>\n      <td>...</td>\n      <td>...</td>\n      <td>...</td>\n      <td>...</td>\n      <td>...</td>\n    </tr>\n    <tr>\n      <th>103</th>\n      <td>COH</td>\n      <td>scRNAseq</td>\n      <td>NaN</td>\n      <td>na</td>\n      <td>NaN</td>\n      <td>none</td>\n      <td>DCIS/LCIS</td>\n      <td>y</td>\n      <td>54</td>\n      <td>A</td>\n      <td>...</td>\n      <td>NaN</td>\n      <td>NaN</td>\n      <td>NaN</td>\n      <td>NaN</td>\n      <td>NaN</td>\n      <td>NaN</td>\n      <td>NaN</td>\n      <td>NaN</td>\n      <td>NaN</td>\n      <td>NaN</td>\n    </tr>\n    <tr>\n      <th>104</th>\n      <td>COH</td>\n      <td>scRNAseq</td>\n      <td>NaN</td>\n      <td>post-recurrence</td>\n      <td>no</td>\n      <td>none</td>\n      <td>TNBC</td>\n      <td>p</td>\n      <td>49</td>\n      <td>White</td>\n      <td>...</td>\n      <td>NaN</td>\n      <td>NaN</td>\n      <td>NaN</td>\n      <td>NaN</td>\n      <td>NaN</td>\n      <td>NaN</td>\n      <td>NaN</td>\n      <td>NaN</td>\n      <td>NaN</td>\n      <td>NaN</td>\n    </tr>\n    <tr>\n      <th>105</th>\n      <td>COH</td>\n      <td>scRNAseq</td>\n      <td>NaN</td>\n      <td>na</td>\n      <td>NaN</td>\n      <td>none</td>\n      <td>DCIS/LCIS</td>\n      <td>p</td>\n      <td>57</td>\n      <td>White</td>\n      <td>...</td>\n      <td>NaN</td>\n      <td>NaN</td>\n      <td>NaN</td>\n      <td>NaN</td>\n      <td>NaN</td>\n      <td>NaN</td>\n      <td>NaN</td>\n      <td>NaN</td>\n      <td>NaN</td>\n      <td>NaN</td>\n    </tr>\n    <tr>\n      <th>106</th>\n      <td>LSU</td>\n      <td>scRNAseq</td>\n      <td>NaN</td>\n      <td>pre</td>\n      <td>NaN</td>\n      <td>none</td>\n      <td>TNBC</td>\n      <td>y</td>\n      <td>41</td>\n      <td>African American</td>\n      <td>...</td>\n      <td>NaN</td>\n      <td>NaN</td>\n      <td>NaN</td>\n      <td>NaN</td>\n      <td>NaN</td>\n      <td>NaN</td>\n      <td>NaN</td>\n      <td>NaN</td>\n      <td>NaN</td>\n      <td>NaN</td>\n    </tr>\n    <tr>\n      <th>107</th>\n      <td>LSU</td>\n      <td>scRNAseq</td>\n      <td>NaN</td>\n      <td>pre</td>\n      <td>NaN</td>\n      <td>none</td>\n      <td>TNBC</td>\n      <td>y</td>\n      <td>45</td>\n      <td>African American</td>\n      <td>...</td>\n      <td>NaN</td>\n      <td>NaN</td>\n      <td>NaN</td>\n      <td>NaN</td>\n      <td>NaN</td>\n      <td>NaN</td>\n      <td>NaN</td>\n      <td>NaN</td>\n      <td>NaN</td>\n      <td>NaN</td>\n    </tr>\n  </tbody>\n</table>\n<p>108 rows × 23 columns</p>\n</div>"
     },
     "execution_count": 51,
     "metadata": {},
     "output_type": "execute_result"
    }
   ],
   "source": [
    "file = \"../mockup_data/Pages/Sample clinical data_July 2022.xlsx\"\n",
    "file = \"../mockup_data/Rayraktar/dt_Bayraktar_ClinicalMetadata_mock_2022.07.21.xlsx\"\n",
    "file = \"../mockup_data/Subramanian/dt_Subramanian_ClinicalMetadata_mock_2022.07.12.xlsx\"\n",
    "file = \"../mockup_data/tnbc/Integrated PABC Study Data 09222022 (2).xlsx\"\n",
    "writer = pd.ExcelWriter(file.replace(\".xls\",\"\")+'_perols.xlsx', engine='xlsxwriter')\n",
    "dfsource = pd.read_excel(file, header=1)\n",
    "dfsource"
   ],
   "metadata": {
    "collapsed": false,
    "pycharm": {
     "name": "#%%\n"
    }
   }
  },
  {
   "cell_type": "code",
   "execution_count": 52,
   "outputs": [
    {
     "name": "stdout",
     "output_type": "stream",
     "text": [
      "ID\n",
      "Age\n",
      "Race\n",
      "Ethnic\n",
      "Chemo\n",
      "RESP\n",
      "BMI\n",
      "Stage\n",
      "Grade\n",
      "LABC\n",
      "LBBC\n",
      "HER2+\n",
      "TNBC\n",
      "Vital Status\n",
      "survival_2y\n",
      "survival_5y\n",
      "Gene Mutation\n",
      "Unnamed 17\n",
      "Unnamed 18\n",
      "Unnamed 19\n",
      "Unnamed 20\n",
      "Unnamed 21\n",
      "Unnamed 22\n"
     ]
    }
   ],
   "source": [
    "for field in dfsource.columns:\n",
    "    df = pd.DataFrame(columns=['id', 'ontology_name', 'iri', 'obo_id', 'label', 'description',  'type', 'is_defining_ontology' ])\n",
    "    url = \"https://www.ebi.ac.uk/ols/api/search?q=\"+urllib.parse.quote(field)+\"&queryFields=label,synonym\"\n",
    "    responses = json.loads(requests.get(url=url).text)\n",
    "    for response in responses['response']['docs']:\n",
    "        if \"id\" in response.keys():\n",
    "            id = response[\"id\"]\n",
    "        else:\n",
    "            id = None\n",
    "        if \"ontology_name\" in response.keys():\n",
    "            ontology_name = response[\"ontology_name\"]\n",
    "        else:\n",
    "            ontology_name = None\n",
    "        if \"iri\" in response.keys():\n",
    "            iri = response[\"iri\"]\n",
    "        else:\n",
    "            iri = None\n",
    "        if \"obo_id\" in response.keys():\n",
    "            obo_id = response[\"obo_id\"]\n",
    "        else:\n",
    "            obo_id = None\n",
    "        if \"label\" in response.keys():\n",
    "            label = response[\"label\"]\n",
    "        else:\n",
    "            label = None\n",
    "        if \"description\" in response.keys():\n",
    "            description = \"\\n\".join(response[\"description\"])\n",
    "        else:\n",
    "            description = None\n",
    "        if \"type\" in response.keys():\n",
    "            type = response[\"type\"]\n",
    "        else:\n",
    "            type = None\n",
    "        if \"is_defining_ontology\" in response.keys():\n",
    "            is_defining_ontology = response[\"is_defining_ontology\"]\n",
    "        else:\n",
    "            is_defining_ontology = None\n",
    "        df.loc[len(df.index)] = [id, ontology_name, iri, obo_id, label, description,  type, is_defining_ontology ]\n",
    "    if len(field) >31:\n",
    "        sheetname = field[:27]+\"...\"\n",
    "    else:\n",
    "        sheetname = field\n",
    "    sheetname_final = sheetname.replace(\"/\",\"\").replace(\":\", \"\")\n",
    "    df.to_excel(writer, sheet_name=sheetname_final, index=False)\n",
    "    print(sheetname_final)\n",
    "    worksheet = writer.sheets[sheetname_final]  # pull worksheet object\n",
    "    for idx, col in enumerate(df):  # loop through all columns\n",
    "        series = df[col]\n",
    "        max_len = max((\n",
    "            series.astype(str).map(len).max(),  # len of largest item\n",
    "            len(str(series.name))  # len of column name/header\n",
    "            )) + 1  # adding a little extra space\n",
    "        worksheet.set_column(idx, idx, max_len)  # set column width\n",
    "    #writer.save()\n",
    "writer.close()"
   ],
   "metadata": {
    "collapsed": false,
    "pycharm": {
     "name": "#%%\n"
    }
   }
  },
  {
   "cell_type": "code",
   "execution_count": 48,
   "outputs": [],
   "source": [],
   "metadata": {
    "collapsed": false,
    "pycharm": {
     "name": "#%%\n"
    }
   }
  },
  {
   "cell_type": "code",
   "execution_count": null,
   "outputs": [],
   "source": [],
   "metadata": {
    "collapsed": false,
    "pycharm": {
     "name": "#%%\n"
    }
   }
  }
 ],
 "metadata": {
  "kernelspec": {
   "display_name": "Python 3",
   "language": "python",
   "name": "python3"
  },
  "language_info": {
   "codemirror_mode": {
    "name": "ipython",
    "version": 2
   },
   "file_extension": ".py",
   "mimetype": "text/x-python",
   "name": "python",
   "nbconvert_exporter": "python",
   "pygments_lexer": "ipython2",
   "version": "2.7.6"
  }
 },
 "nbformat": 4,
 "nbformat_minor": 0
}