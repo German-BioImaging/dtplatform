{
 "cells": [
  {
   "cell_type": "code",
   "execution_count": 11,
   "metadata": {
    "collapsed": true
   },
   "outputs": [],
   "source": [
    "import json\n",
    "import requests\n",
    "import pandas as pd\n",
    "import xlrd\n",
    "import urllib.parse"
   ]
  },
  {
   "cell_type": "code",
   "execution_count": 25,
   "outputs": [
    {
     "data": {
      "text/plain": "   ID Lab site ID clinical site        DOB  Age  Gender Pathology  \\\n0       Ge 829              DAG 1953-05-16    62      F       GBM   \n1       Ge 835              EAG 1964-06-18    50      M       GBM   \n2       Ge 849              FAG 1957-12-15    57      F       GBM   \n3       Ge 852              GAG 1960-03-22    55      M       GBM   \n4       Ge 882              IAG 1948-05-06    67      M       GBM   \n5      Ge 893*              KAG 1958-07-12    56      M       GBM   \n6       Ge 901              LAG 1991-06-09    23      F      AIII   \n7       Ge 904              MAG 1949-10-13    65      M       GBM   \n8       Ge 939              PAG 1972-04-10    43      F      AIII   \n9      Ge 941*              OAG 1954-01-07    61      M       GBM   \n10      Ge 950              QAG 1947-03-22    68      M       GBM   \n11     Ge 963*              RAG 1941-06-14    73      M      AIII   \n12      Ge 970              UAG 1971-05-01    44      M       GBM   \n13      Ge 977              VAG 1947-06-28    68      F       GBM   \n14     Ge 989*              WAG 1974-11-10    41      M       GBM   \n15      Ge 993              XAG 1951-12-07    63      M       GBM   \n16     Ge 1006              YAG 1955-11-05    60      M       GBM   \n17     Ge 1007              ZAG 1942-05-15    73      M       GBM   \n18     Ge 1018              ABG 1975-07-11    41      M       GBM   \n\n                Localization  IDH1/2 status MGMT status  ECOG  ...  \\\n0                  parietal R            wt      UnMeth     1  ...   \n1                  temporal D            wt      UnMeth     0  ...   \n2                   frontal R            wt      UnMeth     0  ...   \n3            fronto insular L            wt      UnMeth     0  ...   \n4            fronto insular R            wt      UnMeth     0  ...   \n5                  temporal R            wt        Meth     0  ...   \n6   fronto temporal insular R           mut      UnMeth     0  ...   \n7         parieto occipital L            wt        Meth     0  ...   \n8                  temporal R            wt      UnMeth     1  ...   \n9                   frontal L           mut        Meth     0  ...   \n10                 parietal L            wt      UnMeth     1  ...   \n11                  frontal L            wt      UnMeth     1  ...   \n12        pareito occipital R            wt      UnMeth     0  ...   \n13                 temporal L            wt        Meth     1  ...   \n14                temporal L             wt      UnMeth     0  ...   \n15       frontal L precentral            wt      UnMeth     1  ...   \n16           frontotemporal L            wt      UnMeth     0  ...   \n17                  frontal L            wt      UnMeth     1  ...   \n18         parieto temporal R            wt      UnMeth     0  ...   \n\n   doses bevacizumab  Best response  pseudo-progression (1=yes 0=no) œdema  \\\n0                 12             PD                                0     1   \n1                  0             PD                                1     1   \n2                  9             PD                                1     0   \n3                 16             SD                                0     1   \n4                  4             PD                                0     1   \n5                  0             SD                                0     0   \n6                 29             SD                                1     0   \n7                  6             PR                                1     1   \n8                 42             PD                                1     1   \n9                  0             CR                                1     0   \n10                 8             PD                                0     1   \n11                 0             SD                                0     0   \n12                 8             PD                                0     1   \n13                 0             SD                                1     0   \n14                23             PD                                0     0   \n15                 7             PR                                1     0   \n16                14             PD                                0     1   \n17                14             PD                                0     0   \n18                15             PD                                0     1   \n\n    PP or œdema  progression (1=yes 0=no)  date of progression months PFS  \\\n0             1                         1           2013-11-11          3   \n1             1                         1           2014-01-21          6   \n2             1                         1           2014-09-02         11   \n3             1                         1           2014-10-01         11   \n4             1                         1           2014-12-22         18   \n5             0                         1           2015-02-04         26   \n6             1                         1           2016-07-18         17   \n7             1                         1           2016-12-12         29   \n8             1                         1           2015-06-12          6   \n9             1                         0                  NaT         38   \n10            1                         1           2015-09-25          7   \n11            0                         1           2017-03-07         19   \n12            1                         1           2016-01-13          6   \n13            1                         1           2017-03-03         20   \n14            0                         1           2015-11-10          5   \n15            1                         1           2016-06-14         12   \n16            1                         1           2016-07-29         10   \n17            0                         1           2016-06-22          7   \n18            1                         1           2016-11-10         10   \n\n    deceased (1=yes 0=no)  months OS  \n0                       1         19  \n1                       1         10  \n2                       1         18  \n3                       1         21  \n4                       1         24  \n5                       0         44  \n6                       1         37  \n7                       1         35  \n8                       1         32  \n9                       0         38  \n10                      1         11  \n11                      0         33  \n12                      1         13  \n13                      1         29  \n14                      0         30  \n15                      1         18  \n16                      1         18  \n17                      1         15  \n18                      1         18  \n\n[19 rows x 26 columns]",
      "text/html": "<div>\n<style scoped>\n    .dataframe tbody tr th:only-of-type {\n        vertical-align: middle;\n    }\n\n    .dataframe tbody tr th {\n        vertical-align: top;\n    }\n\n    .dataframe thead th {\n        text-align: right;\n    }\n</style>\n<table border=\"1\" class=\"dataframe\">\n  <thead>\n    <tr style=\"text-align: right;\">\n      <th></th>\n      <th>ID Lab site</th>\n      <th>ID clinical site</th>\n      <th>DOB</th>\n      <th>Age</th>\n      <th>Gender</th>\n      <th>Pathology</th>\n      <th>Localization</th>\n      <th>IDH1/2 status</th>\n      <th>MGMT status</th>\n      <th>ECOG</th>\n      <th>...</th>\n      <th>doses bevacizumab</th>\n      <th>Best response</th>\n      <th>pseudo-progression (1=yes 0=no)</th>\n      <th>œdema</th>\n      <th>PP or œdema</th>\n      <th>progression (1=yes 0=no)</th>\n      <th>date of progression</th>\n      <th>months PFS</th>\n      <th>deceased (1=yes 0=no)</th>\n      <th>months OS</th>\n    </tr>\n  </thead>\n  <tbody>\n    <tr>\n      <th>0</th>\n      <td>Ge 829</td>\n      <td>DAG</td>\n      <td>1953-05-16</td>\n      <td>62</td>\n      <td>F</td>\n      <td>GBM</td>\n      <td>parietal R</td>\n      <td>wt</td>\n      <td>UnMeth</td>\n      <td>1</td>\n      <td>...</td>\n      <td>12</td>\n      <td>PD</td>\n      <td>0</td>\n      <td>1</td>\n      <td>1</td>\n      <td>1</td>\n      <td>2013-11-11</td>\n      <td>3</td>\n      <td>1</td>\n      <td>19</td>\n    </tr>\n    <tr>\n      <th>1</th>\n      <td>Ge 835</td>\n      <td>EAG</td>\n      <td>1964-06-18</td>\n      <td>50</td>\n      <td>M</td>\n      <td>GBM</td>\n      <td>temporal D</td>\n      <td>wt</td>\n      <td>UnMeth</td>\n      <td>0</td>\n      <td>...</td>\n      <td>0</td>\n      <td>PD</td>\n      <td>1</td>\n      <td>1</td>\n      <td>1</td>\n      <td>1</td>\n      <td>2014-01-21</td>\n      <td>6</td>\n      <td>1</td>\n      <td>10</td>\n    </tr>\n    <tr>\n      <th>2</th>\n      <td>Ge 849</td>\n      <td>FAG</td>\n      <td>1957-12-15</td>\n      <td>57</td>\n      <td>F</td>\n      <td>GBM</td>\n      <td>frontal R</td>\n      <td>wt</td>\n      <td>UnMeth</td>\n      <td>0</td>\n      <td>...</td>\n      <td>9</td>\n      <td>PD</td>\n      <td>1</td>\n      <td>0</td>\n      <td>1</td>\n      <td>1</td>\n      <td>2014-09-02</td>\n      <td>11</td>\n      <td>1</td>\n      <td>18</td>\n    </tr>\n    <tr>\n      <th>3</th>\n      <td>Ge 852</td>\n      <td>GAG</td>\n      <td>1960-03-22</td>\n      <td>55</td>\n      <td>M</td>\n      <td>GBM</td>\n      <td>fronto insular L</td>\n      <td>wt</td>\n      <td>UnMeth</td>\n      <td>0</td>\n      <td>...</td>\n      <td>16</td>\n      <td>SD</td>\n      <td>0</td>\n      <td>1</td>\n      <td>1</td>\n      <td>1</td>\n      <td>2014-10-01</td>\n      <td>11</td>\n      <td>1</td>\n      <td>21</td>\n    </tr>\n    <tr>\n      <th>4</th>\n      <td>Ge 882</td>\n      <td>IAG</td>\n      <td>1948-05-06</td>\n      <td>67</td>\n      <td>M</td>\n      <td>GBM</td>\n      <td>fronto insular R</td>\n      <td>wt</td>\n      <td>UnMeth</td>\n      <td>0</td>\n      <td>...</td>\n      <td>4</td>\n      <td>PD</td>\n      <td>0</td>\n      <td>1</td>\n      <td>1</td>\n      <td>1</td>\n      <td>2014-12-22</td>\n      <td>18</td>\n      <td>1</td>\n      <td>24</td>\n    </tr>\n    <tr>\n      <th>5</th>\n      <td>Ge 893*</td>\n      <td>KAG</td>\n      <td>1958-07-12</td>\n      <td>56</td>\n      <td>M</td>\n      <td>GBM</td>\n      <td>temporal R</td>\n      <td>wt</td>\n      <td>Meth</td>\n      <td>0</td>\n      <td>...</td>\n      <td>0</td>\n      <td>SD</td>\n      <td>0</td>\n      <td>0</td>\n      <td>0</td>\n      <td>1</td>\n      <td>2015-02-04</td>\n      <td>26</td>\n      <td>0</td>\n      <td>44</td>\n    </tr>\n    <tr>\n      <th>6</th>\n      <td>Ge 901</td>\n      <td>LAG</td>\n      <td>1991-06-09</td>\n      <td>23</td>\n      <td>F</td>\n      <td>AIII</td>\n      <td>fronto temporal insular R</td>\n      <td>mut</td>\n      <td>UnMeth</td>\n      <td>0</td>\n      <td>...</td>\n      <td>29</td>\n      <td>SD</td>\n      <td>1</td>\n      <td>0</td>\n      <td>1</td>\n      <td>1</td>\n      <td>2016-07-18</td>\n      <td>17</td>\n      <td>1</td>\n      <td>37</td>\n    </tr>\n    <tr>\n      <th>7</th>\n      <td>Ge 904</td>\n      <td>MAG</td>\n      <td>1949-10-13</td>\n      <td>65</td>\n      <td>M</td>\n      <td>GBM</td>\n      <td>parieto occipital L</td>\n      <td>wt</td>\n      <td>Meth</td>\n      <td>0</td>\n      <td>...</td>\n      <td>6</td>\n      <td>PR</td>\n      <td>1</td>\n      <td>1</td>\n      <td>1</td>\n      <td>1</td>\n      <td>2016-12-12</td>\n      <td>29</td>\n      <td>1</td>\n      <td>35</td>\n    </tr>\n    <tr>\n      <th>8</th>\n      <td>Ge 939</td>\n      <td>PAG</td>\n      <td>1972-04-10</td>\n      <td>43</td>\n      <td>F</td>\n      <td>AIII</td>\n      <td>temporal R</td>\n      <td>wt</td>\n      <td>UnMeth</td>\n      <td>1</td>\n      <td>...</td>\n      <td>42</td>\n      <td>PD</td>\n      <td>1</td>\n      <td>1</td>\n      <td>1</td>\n      <td>1</td>\n      <td>2015-06-12</td>\n      <td>6</td>\n      <td>1</td>\n      <td>32</td>\n    </tr>\n    <tr>\n      <th>9</th>\n      <td>Ge 941*</td>\n      <td>OAG</td>\n      <td>1954-01-07</td>\n      <td>61</td>\n      <td>M</td>\n      <td>GBM</td>\n      <td>frontal L</td>\n      <td>mut</td>\n      <td>Meth</td>\n      <td>0</td>\n      <td>...</td>\n      <td>0</td>\n      <td>CR</td>\n      <td>1</td>\n      <td>0</td>\n      <td>1</td>\n      <td>0</td>\n      <td>NaT</td>\n      <td>38</td>\n      <td>0</td>\n      <td>38</td>\n    </tr>\n    <tr>\n      <th>10</th>\n      <td>Ge 950</td>\n      <td>QAG</td>\n      <td>1947-03-22</td>\n      <td>68</td>\n      <td>M</td>\n      <td>GBM</td>\n      <td>parietal L</td>\n      <td>wt</td>\n      <td>UnMeth</td>\n      <td>1</td>\n      <td>...</td>\n      <td>8</td>\n      <td>PD</td>\n      <td>0</td>\n      <td>1</td>\n      <td>1</td>\n      <td>1</td>\n      <td>2015-09-25</td>\n      <td>7</td>\n      <td>1</td>\n      <td>11</td>\n    </tr>\n    <tr>\n      <th>11</th>\n      <td>Ge 963*</td>\n      <td>RAG</td>\n      <td>1941-06-14</td>\n      <td>73</td>\n      <td>M</td>\n      <td>AIII</td>\n      <td>frontal L</td>\n      <td>wt</td>\n      <td>UnMeth</td>\n      <td>1</td>\n      <td>...</td>\n      <td>0</td>\n      <td>SD</td>\n      <td>0</td>\n      <td>0</td>\n      <td>0</td>\n      <td>1</td>\n      <td>2017-03-07</td>\n      <td>19</td>\n      <td>0</td>\n      <td>33</td>\n    </tr>\n    <tr>\n      <th>12</th>\n      <td>Ge 970</td>\n      <td>UAG</td>\n      <td>1971-05-01</td>\n      <td>44</td>\n      <td>M</td>\n      <td>GBM</td>\n      <td>pareito occipital R</td>\n      <td>wt</td>\n      <td>UnMeth</td>\n      <td>0</td>\n      <td>...</td>\n      <td>8</td>\n      <td>PD</td>\n      <td>0</td>\n      <td>1</td>\n      <td>1</td>\n      <td>1</td>\n      <td>2016-01-13</td>\n      <td>6</td>\n      <td>1</td>\n      <td>13</td>\n    </tr>\n    <tr>\n      <th>13</th>\n      <td>Ge 977</td>\n      <td>VAG</td>\n      <td>1947-06-28</td>\n      <td>68</td>\n      <td>F</td>\n      <td>GBM</td>\n      <td>temporal L</td>\n      <td>wt</td>\n      <td>Meth</td>\n      <td>1</td>\n      <td>...</td>\n      <td>0</td>\n      <td>SD</td>\n      <td>1</td>\n      <td>0</td>\n      <td>1</td>\n      <td>1</td>\n      <td>2017-03-03</td>\n      <td>20</td>\n      <td>1</td>\n      <td>29</td>\n    </tr>\n    <tr>\n      <th>14</th>\n      <td>Ge 989*</td>\n      <td>WAG</td>\n      <td>1974-11-10</td>\n      <td>41</td>\n      <td>M</td>\n      <td>GBM</td>\n      <td>temporal L</td>\n      <td>wt</td>\n      <td>UnMeth</td>\n      <td>0</td>\n      <td>...</td>\n      <td>23</td>\n      <td>PD</td>\n      <td>0</td>\n      <td>0</td>\n      <td>0</td>\n      <td>1</td>\n      <td>2015-11-10</td>\n      <td>5</td>\n      <td>0</td>\n      <td>30</td>\n    </tr>\n    <tr>\n      <th>15</th>\n      <td>Ge 993</td>\n      <td>XAG</td>\n      <td>1951-12-07</td>\n      <td>63</td>\n      <td>M</td>\n      <td>GBM</td>\n      <td>frontal L precentral</td>\n      <td>wt</td>\n      <td>UnMeth</td>\n      <td>1</td>\n      <td>...</td>\n      <td>7</td>\n      <td>PR</td>\n      <td>1</td>\n      <td>0</td>\n      <td>1</td>\n      <td>1</td>\n      <td>2016-06-14</td>\n      <td>12</td>\n      <td>1</td>\n      <td>18</td>\n    </tr>\n    <tr>\n      <th>16</th>\n      <td>Ge 1006</td>\n      <td>YAG</td>\n      <td>1955-11-05</td>\n      <td>60</td>\n      <td>M</td>\n      <td>GBM</td>\n      <td>frontotemporal L</td>\n      <td>wt</td>\n      <td>UnMeth</td>\n      <td>0</td>\n      <td>...</td>\n      <td>14</td>\n      <td>PD</td>\n      <td>0</td>\n      <td>1</td>\n      <td>1</td>\n      <td>1</td>\n      <td>2016-07-29</td>\n      <td>10</td>\n      <td>1</td>\n      <td>18</td>\n    </tr>\n    <tr>\n      <th>17</th>\n      <td>Ge 1007</td>\n      <td>ZAG</td>\n      <td>1942-05-15</td>\n      <td>73</td>\n      <td>M</td>\n      <td>GBM</td>\n      <td>frontal L</td>\n      <td>wt</td>\n      <td>UnMeth</td>\n      <td>1</td>\n      <td>...</td>\n      <td>14</td>\n      <td>PD</td>\n      <td>0</td>\n      <td>0</td>\n      <td>0</td>\n      <td>1</td>\n      <td>2016-06-22</td>\n      <td>7</td>\n      <td>1</td>\n      <td>15</td>\n    </tr>\n    <tr>\n      <th>18</th>\n      <td>Ge 1018</td>\n      <td>ABG</td>\n      <td>1975-07-11</td>\n      <td>41</td>\n      <td>M</td>\n      <td>GBM</td>\n      <td>parieto temporal R</td>\n      <td>wt</td>\n      <td>UnMeth</td>\n      <td>0</td>\n      <td>...</td>\n      <td>15</td>\n      <td>PD</td>\n      <td>0</td>\n      <td>1</td>\n      <td>1</td>\n      <td>1</td>\n      <td>2016-11-10</td>\n      <td>10</td>\n      <td>1</td>\n      <td>18</td>\n    </tr>\n  </tbody>\n</table>\n<p>19 rows × 26 columns</p>\n</div>"
     },
     "execution_count": 25,
     "metadata": {},
     "output_type": "execute_result"
    }
   ],
   "source": [
    "file = \"../mockup_data/Pages/Sample clinical data_July 2022.xlsx\"\n",
    "writer = pd.ExcelWriter(file+'_perols.xlsx', engine='xlsxwriter')\n",
    "dfsource = pd.read_excel(\"../mockup_data/Pages/Sample clinical data_July 2022.xlsx\", header=0)\n",
    "dfsource"
   ],
   "metadata": {
    "collapsed": false,
    "pycharm": {
     "name": "#%%\n"
    }
   }
  },
  {
   "cell_type": "code",
   "execution_count": 26,
   "outputs": [
    {
     "name": "stdout",
     "output_type": "stream",
     "text": [
      "ID Lab site\n",
      "ID clinical site\n",
      "DOB\n",
      "Age \n",
      "Gender\n",
      "Pathology\n",
      "Localization \n",
      "IDH1/2 status\n",
      "MGMT status\n",
      "ECOG\n",
      "Nature of initial resection \n",
      "lymphocyte counts at V1 in G/L\n",
      "cummulative dose preV1 ster...\n",
      "steroid use after V1\n",
      "cummulative steroid dose in mg\n",
      " Cycles adj TMZ\n",
      "doses bevacizumab\n",
      "Best response\n",
      "pseudo-progression (1=yes 0=no)\n",
      "œdema\n",
      "PP or œdema\n",
      "progression (1=yes 0=no)\n",
      "date of progression\n",
      "months PFS\n",
      "deceased (1=yes 0=no)\n",
      "months OS\n"
     ]
    }
   ],
   "source": [
    "for field in dfsource.columns:\n",
    "    df = pd.DataFrame(columns=['id', 'ontology_name', 'iri', 'obo_id', 'label', 'description',  'type', 'is_defining_ontologyy' ])\n",
    "    url = \"https://www.ebi.ac.uk/ols/api/search?q=\"+urllib.parse.quote(field)+\"&queryFields=label,synonym\"\n",
    "    responses = json.loads(requests.get(url=url).text)\n",
    "    for response in responses['response']['docs']:\n",
    "        if \"id\" in response.keys():\n",
    "            id = response[\"id\"]\n",
    "        else:\n",
    "            id = None\n",
    "        if \"ontology_name\" in response.keys():\n",
    "            ontology_name = response[\"ontology_name\"]\n",
    "        else:\n",
    "            ontology_name = None\n",
    "        if \"iri\" in response.keys():\n",
    "            iri = response[\"iri\"]\n",
    "        else:\n",
    "            iri = None\n",
    "        if \"obo_id\" in response.keys():\n",
    "            obo_id = response[\"obo_id\"]\n",
    "        else:\n",
    "            obo_id = None\n",
    "        if \"label\" in response.keys():\n",
    "            label = response[\"label\"]\n",
    "        else:\n",
    "            label = None\n",
    "        if \"description\" in response.keys():\n",
    "            description = \"\\n\".join(response[\"description\"])\n",
    "        else:\n",
    "            description = None\n",
    "        if \"type\" in response.keys():\n",
    "            type = response[\"type\"]\n",
    "        else:\n",
    "            type = None\n",
    "        if \"is_defining_ontology\" in response.keys():\n",
    "            is_defining_ontology = response[\"is_defining_ontology\"]\n",
    "        else:\n",
    "            is_defining_ontology = None\n",
    "        df.loc[len(df.index)] = [id, ontology_name, iri, obo_id, label, description,  type, is_defining_ontology ]\n",
    "    if len(field) >31:\n",
    "        sheetname = field[:27]+\"...\"\n",
    "    else:\n",
    "        sheetname = field\n",
    "    df.to_excel(writer, sheet_name=sheetname.replace(\"/\",\"\"), index=False)\n",
    "    print(sheetname)\n",
    "writer.close()\n"
   ],
   "metadata": {
    "collapsed": false,
    "pycharm": {
     "name": "#%%\n"
    }
   }
  }
 ],
 "metadata": {
  "kernelspec": {
   "display_name": "Python 3",
   "language": "python",
   "name": "python3"
  },
  "language_info": {
   "codemirror_mode": {
    "name": "ipython",
    "version": 2
   },
   "file_extension": ".py",
   "mimetype": "text/x-python",
   "name": "python",
   "nbconvert_exporter": "python",
   "pygments_lexer": "ipython2",
   "version": "2.7.6"
  }
 },
 "nbformat": 4,
 "nbformat_minor": 0
}