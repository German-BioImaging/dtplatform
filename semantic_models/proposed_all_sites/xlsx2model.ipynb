{
 "cells": [
  {
   "cell_type": "code",
   "execution_count": 9,
   "outputs": [],
   "source": [
    "import pandas as pd\n",
    "import graphviz\n"
   ],
   "metadata": {
    "collapsed": false,
    "pycharm": {
     "name": "#%%\n"
    }
   }
  },
  {
   "cell_type": "code",
   "execution_count": 86,
   "outputs": [
    {
     "data": {
      "text/plain": "                    shapeID         Unnamed: 1          propertyID  \\\n0                 studySite                NaN            rdf:type   \n1                 studySite                NaN          rdfs:label   \n2                   subject                NaN            rdf:type   \n3                   subject                NaN  dcterms:identifier   \n4                   subject                NaN      sio:SIO_000066   \n5                   subject                NaN        ccf:has_race   \n6                   subject                NaN     obo:OBI_0100051   \n7                        er                NaN            rdf:type   \n8   subjectArchivedSpecimen                NaN    obo:TXPO_0001873   \n9                        er                NaN         rdfs:domain   \n10                       er                NaN           rdf:value   \n11                       pr                NaN            rdf:type   \n12  subjectArchivedSpecimen                NaN    obo:TXPO_0001873   \n13                       pr                NaN         rdfs:domain   \n14                       pr                NaN           rdf:value   \n15                     her2                NaN            rdf:type   \n16  subjectArchivedSpecimen                NaN    obo:TXPO_0001873   \n17                     her2                NaN         rdfs:domain   \n18                     her2                NaN           rdf:value   \n19             brcamutation                NaN            rdf:type   \n20  subjectArchivedSpecimen                NaN    obo:TXPO_0001873   \n21             brcamutation                NaN         rdfs:domain   \n22             brcamutation                NaN           rdf:value   \n23         pregnancyhistory  Pregnancy history            rdf:type   \n24                offspring          Offspring            rdf:type   \n25                  subject                NaN     schema:children   \n26                offspring                NaN         foaf:member   \n27                lastchild                NaN    schema:birthDate   \n28                lastchild                NaN   obo:STATO_0000382   \n\n     propertyLabel valueNodeType valueDataType             valueConstraint  \\\n0             is a           iri           NaN             obo:NCIT_C80403   \n1        has label       literal    xsd:string             COH,LSU,Cam,KCL   \n2             is a           iri           NaN             obo:NCIT_C16960   \n3   has identifier       literal    xsd:string                         NaN   \n4     has provider           iri           NaN                         NaN   \n5         has race       literal    xsd:string  Black,White,Asian,Hispanic   \n6         Specimen           iri           NaN                         NaN   \n7             is a           iri           NaN             obo:NCIT_C25209   \n8      has finding           iri           NaN                         NaN   \n9       has domain           iri           NaN             obo:NCIT_C16150   \n10           value       literal           NaN                  True,False   \n11            is a           iri           NaN             obo:NCIT_C25209   \n12     has finding           iri           NaN                         NaN   \n13      has domain           iri           NaN             obo:NCIT_C16149   \n14           value       literal           NaN                  True,False   \n15            is a           iri           NaN             obo:NCIT_C25209   \n16     has finding           iri           NaN                         NaN   \n17      has domain           iri           NaN            obo:NCIT_C184942   \n18           value       literal           NaN                  True,False   \n19            is a           iri           NaN             obo:NCIT_C25209   \n20     has finding           iri           NaN                         NaN   \n21      has domain           iri           NaN            obo:NCIT_C179406   \n22           value       literal           NaN                  True,False   \n23            is a           iri           NaN             obo:OBI_0002393   \n24            is a           iri           NaN                     rdf:seq   \n25    has children           iri           NaN                         NaN   \n26             NaN           iri           NaN                         NaN   \n27             NaN       literal    xsd:string                         NaN   \n28             NaN           iri           NaN             obo:NCIT_C25551   \n\n            valueConstraintLabel               valueShape  \n0                     Study Site                      NaN  \n1                            NaN                      NaN  \n2                        Patient                      NaN  \n3                            NaN                      NaN  \n4                            NaN                studySite  \n5                            NaN                      NaN  \n6                            NaN  subjectArchivedSpecimen  \n7                    Measurement                      NaN  \n8                            NaN                       er  \n9       Estrogen Receptor Status                      NaN  \n10                           NaN                      NaN  \n11                   Measurement                      NaN  \n12                           NaN                       pr  \n13  Progesterone Receptor Status                      NaN  \n14                           NaN                      NaN  \n15                   Measurement                      NaN  \n16                           NaN                     her2  \n17  HER2 Copy Number Measurement                      NaN  \n18                           NaN                      NaN  \n19                   Measurement                      NaN  \n20                           NaN             brcamutation  \n21            BRCA Gene Mutation                      NaN  \n22                           NaN                      NaN  \n23             Pregnancy history                      NaN  \n24            sequence container                      NaN  \n25                           NaN                offspring  \n26                           NaN                lastchild  \n27                           NaN                      NaN  \n28                          Last                      NaN  ",
      "text/html": "<div>\n<style scoped>\n    .dataframe tbody tr th:only-of-type {\n        vertical-align: middle;\n    }\n\n    .dataframe tbody tr th {\n        vertical-align: top;\n    }\n\n    .dataframe thead th {\n        text-align: right;\n    }\n</style>\n<table border=\"1\" class=\"dataframe\">\n  <thead>\n    <tr style=\"text-align: right;\">\n      <th></th>\n      <th>shapeID</th>\n      <th>Unnamed: 1</th>\n      <th>propertyID</th>\n      <th>propertyLabel</th>\n      <th>valueNodeType</th>\n      <th>valueDataType</th>\n      <th>valueConstraint</th>\n      <th>valueConstraintLabel</th>\n      <th>valueShape</th>\n    </tr>\n  </thead>\n  <tbody>\n    <tr>\n      <th>0</th>\n      <td>studySite</td>\n      <td>NaN</td>\n      <td>rdf:type</td>\n      <td>is a</td>\n      <td>iri</td>\n      <td>NaN</td>\n      <td>obo:NCIT_C80403</td>\n      <td>Study Site</td>\n      <td>NaN</td>\n    </tr>\n    <tr>\n      <th>1</th>\n      <td>studySite</td>\n      <td>NaN</td>\n      <td>rdfs:label</td>\n      <td>has label</td>\n      <td>literal</td>\n      <td>xsd:string</td>\n      <td>COH,LSU,Cam,KCL</td>\n      <td>NaN</td>\n      <td>NaN</td>\n    </tr>\n    <tr>\n      <th>2</th>\n      <td>subject</td>\n      <td>NaN</td>\n      <td>rdf:type</td>\n      <td>is a</td>\n      <td>iri</td>\n      <td>NaN</td>\n      <td>obo:NCIT_C16960</td>\n      <td>Patient</td>\n      <td>NaN</td>\n    </tr>\n    <tr>\n      <th>3</th>\n      <td>subject</td>\n      <td>NaN</td>\n      <td>dcterms:identifier</td>\n      <td>has identifier</td>\n      <td>literal</td>\n      <td>xsd:string</td>\n      <td>NaN</td>\n      <td>NaN</td>\n      <td>NaN</td>\n    </tr>\n    <tr>\n      <th>4</th>\n      <td>subject</td>\n      <td>NaN</td>\n      <td>sio:SIO_000066</td>\n      <td>has provider</td>\n      <td>iri</td>\n      <td>NaN</td>\n      <td>NaN</td>\n      <td>NaN</td>\n      <td>studySite</td>\n    </tr>\n    <tr>\n      <th>5</th>\n      <td>subject</td>\n      <td>NaN</td>\n      <td>ccf:has_race</td>\n      <td>has race</td>\n      <td>literal</td>\n      <td>xsd:string</td>\n      <td>Black,White,Asian,Hispanic</td>\n      <td>NaN</td>\n      <td>NaN</td>\n    </tr>\n    <tr>\n      <th>6</th>\n      <td>subject</td>\n      <td>NaN</td>\n      <td>obo:OBI_0100051</td>\n      <td>Specimen</td>\n      <td>iri</td>\n      <td>NaN</td>\n      <td>NaN</td>\n      <td>NaN</td>\n      <td>subjectArchivedSpecimen</td>\n    </tr>\n    <tr>\n      <th>7</th>\n      <td>er</td>\n      <td>NaN</td>\n      <td>rdf:type</td>\n      <td>is a</td>\n      <td>iri</td>\n      <td>NaN</td>\n      <td>obo:NCIT_C25209</td>\n      <td>Measurement</td>\n      <td>NaN</td>\n    </tr>\n    <tr>\n      <th>8</th>\n      <td>subjectArchivedSpecimen</td>\n      <td>NaN</td>\n      <td>obo:TXPO_0001873</td>\n      <td>has finding</td>\n      <td>iri</td>\n      <td>NaN</td>\n      <td>NaN</td>\n      <td>NaN</td>\n      <td>er</td>\n    </tr>\n    <tr>\n      <th>9</th>\n      <td>er</td>\n      <td>NaN</td>\n      <td>rdfs:domain</td>\n      <td>has domain</td>\n      <td>iri</td>\n      <td>NaN</td>\n      <td>obo:NCIT_C16150</td>\n      <td>Estrogen Receptor Status</td>\n      <td>NaN</td>\n    </tr>\n    <tr>\n      <th>10</th>\n      <td>er</td>\n      <td>NaN</td>\n      <td>rdf:value</td>\n      <td>value</td>\n      <td>literal</td>\n      <td>NaN</td>\n      <td>True,False</td>\n      <td>NaN</td>\n      <td>NaN</td>\n    </tr>\n    <tr>\n      <th>11</th>\n      <td>pr</td>\n      <td>NaN</td>\n      <td>rdf:type</td>\n      <td>is a</td>\n      <td>iri</td>\n      <td>NaN</td>\n      <td>obo:NCIT_C25209</td>\n      <td>Measurement</td>\n      <td>NaN</td>\n    </tr>\n    <tr>\n      <th>12</th>\n      <td>subjectArchivedSpecimen</td>\n      <td>NaN</td>\n      <td>obo:TXPO_0001873</td>\n      <td>has finding</td>\n      <td>iri</td>\n      <td>NaN</td>\n      <td>NaN</td>\n      <td>NaN</td>\n      <td>pr</td>\n    </tr>\n    <tr>\n      <th>13</th>\n      <td>pr</td>\n      <td>NaN</td>\n      <td>rdfs:domain</td>\n      <td>has domain</td>\n      <td>iri</td>\n      <td>NaN</td>\n      <td>obo:NCIT_C16149</td>\n      <td>Progesterone Receptor Status</td>\n      <td>NaN</td>\n    </tr>\n    <tr>\n      <th>14</th>\n      <td>pr</td>\n      <td>NaN</td>\n      <td>rdf:value</td>\n      <td>value</td>\n      <td>literal</td>\n      <td>NaN</td>\n      <td>True,False</td>\n      <td>NaN</td>\n      <td>NaN</td>\n    </tr>\n    <tr>\n      <th>15</th>\n      <td>her2</td>\n      <td>NaN</td>\n      <td>rdf:type</td>\n      <td>is a</td>\n      <td>iri</td>\n      <td>NaN</td>\n      <td>obo:NCIT_C25209</td>\n      <td>Measurement</td>\n      <td>NaN</td>\n    </tr>\n    <tr>\n      <th>16</th>\n      <td>subjectArchivedSpecimen</td>\n      <td>NaN</td>\n      <td>obo:TXPO_0001873</td>\n      <td>has finding</td>\n      <td>iri</td>\n      <td>NaN</td>\n      <td>NaN</td>\n      <td>NaN</td>\n      <td>her2</td>\n    </tr>\n    <tr>\n      <th>17</th>\n      <td>her2</td>\n      <td>NaN</td>\n      <td>rdfs:domain</td>\n      <td>has domain</td>\n      <td>iri</td>\n      <td>NaN</td>\n      <td>obo:NCIT_C184942</td>\n      <td>HER2 Copy Number Measurement</td>\n      <td>NaN</td>\n    </tr>\n    <tr>\n      <th>18</th>\n      <td>her2</td>\n      <td>NaN</td>\n      <td>rdf:value</td>\n      <td>value</td>\n      <td>literal</td>\n      <td>NaN</td>\n      <td>True,False</td>\n      <td>NaN</td>\n      <td>NaN</td>\n    </tr>\n    <tr>\n      <th>19</th>\n      <td>brcamutation</td>\n      <td>NaN</td>\n      <td>rdf:type</td>\n      <td>is a</td>\n      <td>iri</td>\n      <td>NaN</td>\n      <td>obo:NCIT_C25209</td>\n      <td>Measurement</td>\n      <td>NaN</td>\n    </tr>\n    <tr>\n      <th>20</th>\n      <td>subjectArchivedSpecimen</td>\n      <td>NaN</td>\n      <td>obo:TXPO_0001873</td>\n      <td>has finding</td>\n      <td>iri</td>\n      <td>NaN</td>\n      <td>NaN</td>\n      <td>NaN</td>\n      <td>brcamutation</td>\n    </tr>\n    <tr>\n      <th>21</th>\n      <td>brcamutation</td>\n      <td>NaN</td>\n      <td>rdfs:domain</td>\n      <td>has domain</td>\n      <td>iri</td>\n      <td>NaN</td>\n      <td>obo:NCIT_C179406</td>\n      <td>BRCA Gene Mutation</td>\n      <td>NaN</td>\n    </tr>\n    <tr>\n      <th>22</th>\n      <td>brcamutation</td>\n      <td>NaN</td>\n      <td>rdf:value</td>\n      <td>value</td>\n      <td>literal</td>\n      <td>NaN</td>\n      <td>True,False</td>\n      <td>NaN</td>\n      <td>NaN</td>\n    </tr>\n    <tr>\n      <th>23</th>\n      <td>pregnancyhistory</td>\n      <td>Pregnancy history</td>\n      <td>rdf:type</td>\n      <td>is a</td>\n      <td>iri</td>\n      <td>NaN</td>\n      <td>obo:OBI_0002393</td>\n      <td>Pregnancy history</td>\n      <td>NaN</td>\n    </tr>\n    <tr>\n      <th>24</th>\n      <td>offspring</td>\n      <td>Offspring</td>\n      <td>rdf:type</td>\n      <td>is a</td>\n      <td>iri</td>\n      <td>NaN</td>\n      <td>rdf:seq</td>\n      <td>sequence container</td>\n      <td>NaN</td>\n    </tr>\n    <tr>\n      <th>25</th>\n      <td>subject</td>\n      <td>NaN</td>\n      <td>schema:children</td>\n      <td>has children</td>\n      <td>iri</td>\n      <td>NaN</td>\n      <td>NaN</td>\n      <td>NaN</td>\n      <td>offspring</td>\n    </tr>\n    <tr>\n      <th>26</th>\n      <td>offspring</td>\n      <td>NaN</td>\n      <td>foaf:member</td>\n      <td>NaN</td>\n      <td>iri</td>\n      <td>NaN</td>\n      <td>NaN</td>\n      <td>NaN</td>\n      <td>lastchild</td>\n    </tr>\n    <tr>\n      <th>27</th>\n      <td>lastchild</td>\n      <td>NaN</td>\n      <td>schema:birthDate</td>\n      <td>NaN</td>\n      <td>literal</td>\n      <td>xsd:string</td>\n      <td>NaN</td>\n      <td>NaN</td>\n      <td>NaN</td>\n    </tr>\n    <tr>\n      <th>28</th>\n      <td>lastchild</td>\n      <td>NaN</td>\n      <td>obo:STATO_0000382</td>\n      <td>NaN</td>\n      <td>iri</td>\n      <td>NaN</td>\n      <td>obo:NCIT_C25551</td>\n      <td>Last</td>\n      <td>NaN</td>\n    </tr>\n  </tbody>\n</table>\n</div>"
     },
     "execution_count": 86,
     "metadata": {},
     "output_type": "execute_result"
    }
   ],
   "source": [
    "xls = pd.ExcelFile('TNBC_Common_Metadata_2022.09.07.xlsx')\n",
    "subjects = pd.read_excel(xls, \"Application profile\")\n",
    "subjects"
   ],
   "metadata": {
    "collapsed": false,
    "pycharm": {
     "name": "#%%\n"
    }
   }
  },
  {
   "cell_type": "code",
   "execution_count": 20,
   "outputs": [],
   "source": [
    "symbol = dict()\n",
    "symbol[\"class\"] = \"oval\"\n",
    "symbol[\"datatype\"] = \"octagon\"\n",
    "symbol[\"literal\"] = \"rectangle\"\n",
    "symbol[\"uri\"]=\"diamond\"\n",
    "symbol[\"bnode\"]='point'\n",
    "symbol[\"oneof\"]='record'\n",
    "schema = graphviz.Digraph('TNBC_Common_Metadata_2022.09.07.gv')"
   ],
   "metadata": {
    "collapsed": false,
    "pycharm": {
     "name": "#%%\n"
    }
   }
  },
  {
   "cell_type": "code",
   "execution_count": 91,
   "outputs": [
    {
     "data": {
      "image/svg+xml": "<?xml version=\"1.0\" encoding=\"UTF-8\" standalone=\"no\"?>\n<!DOCTYPE svg PUBLIC \"-//W3C//DTD SVG 1.1//EN\"\n \"http://www.w3.org/Graphics/SVG/1.1/DTD/svg11.dtd\">\n<!-- Generated by graphviz version 6.0.1 (20220911.1526)\n -->\n<!-- Pages: 1 -->\n<svg width=\"2419pt\" height=\"1362pt\"\n viewBox=\"0.00 0.00 2419.13 1361.74\" xmlns=\"http://www.w3.org/2000/svg\" xmlns:xlink=\"http://www.w3.org/1999/xlink\">\n<g id=\"graph0\" class=\"graph\" transform=\"scale(1 1) rotate(0) translate(4 1357.74)\">\n<polygon fill=\"white\" stroke=\"none\" points=\"-4,4 -4,-1357.74 2415.13,-1357.74 2415.13,4 -4,4\"/>\n<!-- studySite -->\n<g id=\"node1\" class=\"node\">\n<title>studySite</title>\n<polygon fill=\"none\" stroke=\"black\" points=\"1059.61,-1095.53 997.94,-1077.53 1059.61,-1059.53 1121.28,-1077.53 1059.61,-1095.53\"/>\n<text text-anchor=\"middle\" x=\"1059.61\" y=\"-1073.83\" font-family=\"Times,serif\" font-size=\"14.00\">studySite</text>\n</g>\n<!-- NCIT_C80403 -->\n<g id=\"node2\" class=\"node\">\n<title>NCIT_C80403</title>\n<ellipse fill=\"none\" stroke=\"black\" cx=\"865.25\" cy=\"-1214.53\" rx=\"124.28\" ry=\"18\"/>\n<text text-anchor=\"middle\" x=\"865.25\" y=\"-1210.83\" font-family=\"Times,serif\" font-size=\"14.00\">obo:NCIT_C80403 (Study Site)</text>\n</g>\n<!-- studySite&#45;&gt;NCIT_C80403 -->\n<g id=\"edge1\" class=\"edge\">\n<title>studySite&#45;&gt;NCIT_C80403</title>\n<path fill=\"none\" stroke=\"black\" d=\"M1041.33,-1090.41C1008.68,-1113.42 939.94,-1161.88 898.66,-1190.98\"/>\n<polygon fill=\"black\" stroke=\"black\" points=\"896.45,-1188.25 890.3,-1196.87 900.49,-1193.97 896.45,-1188.25\"/>\n<text text-anchor=\"middle\" x=\"932.49\" y=\"-1144.5\" font-family=\"Times,serif\" font-size=\"14.00\">rdf:type (is a)</text>\n</g>\n<!-- COHLSUCamKCL -->\n<g id=\"node3\" class=\"node\">\n<title>COHLSUCamKCL</title>\n<polygon fill=\"none\" stroke=\"black\" points=\"1075.21,-1261.24 1075.21,-1353.24 1129.21,-1353.24 1129.21,-1261.24 1075.21,-1261.24\"/>\n<text text-anchor=\"middle\" x=\"1102.21\" y=\"-1338.04\" font-family=\"Times,serif\" font-size=\"14.00\">COH</text>\n<polyline fill=\"none\" stroke=\"black\" points=\"1075.21,-1330.24 1129.21,-1330.24\"/>\n<text text-anchor=\"middle\" x=\"1102.21\" y=\"-1315.04\" font-family=\"Times,serif\" font-size=\"14.00\">LSU</text>\n<polyline fill=\"none\" stroke=\"black\" points=\"1075.21,-1307.24 1129.21,-1307.24\"/>\n<text text-anchor=\"middle\" x=\"1102.21\" y=\"-1292.04\" font-family=\"Times,serif\" font-size=\"14.00\">Cam</text>\n<polyline fill=\"none\" stroke=\"black\" points=\"1075.21,-1284.24 1129.21,-1284.24\"/>\n<text text-anchor=\"middle\" x=\"1102.21\" y=\"-1269.04\" font-family=\"Times,serif\" font-size=\"14.00\">KCL</text>\n</g>\n<!-- studySite&#45;&gt;COHLSUCamKCL -->\n<g id=\"edge2\" class=\"edge\">\n<title>studySite&#45;&gt;COHLSUCamKCL</title>\n<path fill=\"none\" stroke=\"black\" d=\"M1062.81,-1094.79C1068.89,-1127.56 1082.33,-1200.07 1091.82,-1251.23\"/>\n<polygon fill=\"black\" stroke=\"black\" points=\"1088.4,-1251.96 1093.66,-1261.16 1095.28,-1250.69 1088.4,-1251.96\"/>\n<text text-anchor=\"middle\" x=\"1021.32\" y=\"-1176.81\" font-family=\"Times,serif\" font-size=\"14.00\">rdfs:label (has label)</text>\n</g>\n<!-- subject -->\n<g id=\"node4\" class=\"node\">\n<title>subject</title>\n<polygon fill=\"none\" stroke=\"black\" points=\"1215.68,-785.02 1165.07,-767.02 1215.68,-749.02 1266.28,-767.02 1215.68,-785.02\"/>\n<text text-anchor=\"middle\" x=\"1215.68\" y=\"-763.32\" font-family=\"Times,serif\" font-size=\"14.00\">subject</text>\n</g>\n<!-- subject&#45;&gt;studySite -->\n<g id=\"edge5\" class=\"edge\">\n<title>subject&#45;&gt;studySite</title>\n<path fill=\"none\" stroke=\"black\" d=\"M1207.94,-782.41C1182.78,-832.48 1103.12,-990.96 1072.12,-1052.63\"/>\n<polygon fill=\"black\" stroke=\"black\" points=\"1068.95,-1051.16 1067.58,-1061.66 1075.2,-1054.3 1068.95,-1051.16\"/>\n<text text-anchor=\"middle\" x=\"1055.53\" y=\"-921.32\" font-family=\"Times,serif\" font-size=\"14.00\">sio:SIO_000066 (has provider)</text>\n</g>\n<!-- NCIT_C16960 -->\n<g id=\"node5\" class=\"node\">\n<title>NCIT_C16960</title>\n<ellipse fill=\"none\" stroke=\"black\" cx=\"1240.98\" cy=\"-972.99\" rx=\"111.58\" ry=\"18\"/>\n<text text-anchor=\"middle\" x=\"1240.98\" y=\"-969.29\" font-family=\"Times,serif\" font-size=\"14.00\">obo:NCIT_C16960 (Patient)</text>\n</g>\n<!-- subject&#45;&gt;NCIT_C16960 -->\n<g id=\"edge3\" class=\"edge\">\n<title>subject&#45;&gt;NCIT_C16960</title>\n<path fill=\"none\" stroke=\"black\" d=\"M1217.83,-784.58C1222.22,-820.27 1232.21,-901.56 1237.51,-944.77\"/>\n<polygon fill=\"black\" stroke=\"black\" points=\"1234.06,-945.38 1238.76,-954.88 1241.01,-944.53 1234.06,-945.38\"/>\n<text text-anchor=\"middle\" x=\"1190.17\" y=\"-868.47\" font-family=\"Times,serif\" font-size=\"14.00\">rdf:type (is a)</text>\n</g>\n<!-- xsd_string -->\n<g id=\"node6\" class=\"node\">\n<title>xsd_string</title>\n<polygon fill=\"none\" stroke=\"black\" points=\"1464.49,-741.64 1464.49,-756.55 1435.5,-767.1 1394.5,-767.1 1365.51,-756.55 1365.51,-741.64 1394.5,-731.1 1435.5,-731.1 1464.49,-741.64\"/>\n<text text-anchor=\"middle\" x=\"1415\" y=\"-745.4\" font-family=\"Times,serif\" font-size=\"14.00\">xsd:string</text>\n</g>\n<!-- subject&#45;&gt;xsd_string -->\n<g id=\"edge4\" class=\"edge\">\n<title>subject&#45;&gt;xsd_string</title>\n<path fill=\"none\" stroke=\"black\" d=\"M1256.49,-763.35C1284.96,-760.79 1323.41,-757.33 1355.31,-754.46\"/>\n<polygon fill=\"black\" stroke=\"black\" points=\"1355.77,-757.94 1365.41,-753.56 1355.14,-750.96 1355.77,-757.94\"/>\n<text text-anchor=\"middle\" x=\"1260.65\" y=\"-747.71\" font-family=\"Times,serif\" font-size=\"14.00\">dcterms:identifier (has identifier)</text>\n</g>\n<!-- BlackWhiteAsianHispanic -->\n<g id=\"node7\" class=\"node\">\n<title>BlackWhiteAsianHispanic</title>\n<polygon fill=\"none\" stroke=\"black\" points=\"1401.15,-904.04 1401.15,-996.04 1466.15,-996.04 1466.15,-904.04 1401.15,-904.04\"/>\n<text text-anchor=\"middle\" x=\"1433.65\" y=\"-980.84\" font-family=\"Times,serif\" font-size=\"14.00\">Black</text>\n<polyline fill=\"none\" stroke=\"black\" points=\"1401.15,-973.04 1466.15,-973.04\"/>\n<text text-anchor=\"middle\" x=\"1433.65\" y=\"-957.84\" font-family=\"Times,serif\" font-size=\"14.00\">White</text>\n<polyline fill=\"none\" stroke=\"black\" points=\"1401.15,-950.04 1466.15,-950.04\"/>\n<text text-anchor=\"middle\" x=\"1433.65\" y=\"-934.84\" font-family=\"Times,serif\" font-size=\"14.00\">Asian</text>\n<polyline fill=\"none\" stroke=\"black\" points=\"1401.15,-927.04 1466.15,-927.04\"/>\n<text text-anchor=\"middle\" x=\"1433.65\" y=\"-911.84\" font-family=\"Times,serif\" font-size=\"14.00\">Hispanic</text>\n</g>\n<!-- subject&#45;&gt;BlackWhiteAsianHispanic -->\n<g id=\"edge6\" class=\"edge\">\n<title>subject&#45;&gt;BlackWhiteAsianHispanic</title>\n<path fill=\"none\" stroke=\"black\" d=\"M1231,-779.89C1264.33,-807.87 1344.29,-875.01 1393.22,-916.1\"/>\n<polygon fill=\"black\" stroke=\"black\" points=\"1391.18,-918.95 1401.09,-922.7 1395.68,-913.59 1391.18,-918.95\"/>\n<text text-anchor=\"middle\" x=\"1249.61\" y=\"-851.79\" font-family=\"Times,serif\" font-size=\"14.00\">ccf:has_race (has race)</text>\n</g>\n<!-- subjectArchivedSpecimen -->\n<g id=\"node8\" class=\"node\">\n<title>subjectArchivedSpecimen</title>\n<polygon fill=\"none\" stroke=\"black\" points=\"822.24,-562.61 675.94,-544.61 822.24,-526.61 968.53,-544.61 822.24,-562.61\"/>\n<text text-anchor=\"middle\" x=\"822.24\" y=\"-540.91\" font-family=\"Times,serif\" font-size=\"14.00\">subjectArchivedSpecimen</text>\n</g>\n<!-- subject&#45;&gt;subjectArchivedSpecimen -->\n<g id=\"edge7\" class=\"edge\">\n<title>subject&#45;&gt;subjectArchivedSpecimen</title>\n<path fill=\"none\" stroke=\"black\" d=\"M1195.9,-755.83C1133.1,-720.34 937.69,-609.87 857.31,-564.43\"/>\n<polygon fill=\"black\" stroke=\"black\" points=\"858.97,-561.35 848.54,-559.48 855.53,-567.45 858.97,-561.35\"/>\n<text text-anchor=\"middle\" x=\"942.1\" y=\"-663.93\" font-family=\"Times,serif\" font-size=\"14.00\">obo:OBI_0100051 (Specimen)</text>\n</g>\n<!-- pregnancyhistory -->\n<g id=\"node19\" class=\"node\">\n<title>pregnancyhistory</title>\n<polygon fill=\"none\" stroke=\"black\" points=\"1581.8,-606.8 1480.58,-588.8 1581.8,-570.8 1683.01,-588.8 1581.8,-606.8\"/>\n<text text-anchor=\"middle\" x=\"1581.8\" y=\"-585.1\" font-family=\"Times,serif\" font-size=\"14.00\">pregnancyhistory</text>\n</g>\n<!-- subject&#45;&gt;pregnancyhistory -->\n<g id=\"edge25\" class=\"edge\">\n<title>subject&#45;&gt;pregnancyhistory</title>\n<path fill=\"none\" stroke=\"black\" d=\"M1237.21,-756.53C1297.7,-727.09 1469.65,-643.39 1545.31,-606.56\"/>\n<polygon fill=\"black\" stroke=\"black\" points=\"1547.01,-609.63 1554.47,-602.1 1543.95,-603.33 1547.01,-609.63\"/>\n<text text-anchor=\"middle\" x=\"1302.76\" y=\"-685.35\" font-family=\"Times,serif\" font-size=\"14.00\">obo:BFO_0000185 (has history)</text>\n</g>\n<!-- er -->\n<g id=\"node9\" class=\"node\">\n<title>er</title>\n<polygon fill=\"none\" stroke=\"black\" points=\"635.02,-271.97 608.02,-253.97 635.02,-235.97 662.02,-253.97 635.02,-271.97\"/>\n<text text-anchor=\"middle\" x=\"635.02\" y=\"-250.27\" font-family=\"Times,serif\" font-size=\"14.00\">er</text>\n</g>\n<!-- subjectArchivedSpecimen&#45;&gt;er -->\n<g id=\"edge9\" class=\"edge\">\n<title>subjectArchivedSpecimen&#45;&gt;er</title>\n<path fill=\"none\" stroke=\"black\" d=\"M811.36,-527.72C779.2,-477.79 684.55,-330.85 648.85,-275.44\"/>\n<polygon fill=\"black\" stroke=\"black\" points=\"651.63,-273.29 643.28,-266.78 645.75,-277.08 651.63,-273.29\"/>\n<text text-anchor=\"middle\" x=\"823.61\" y=\"-405.38\" font-family=\"Times,serif\" font-size=\"14.00\">obo:TXPO_0001873 (has finding)</text>\n</g>\n<!-- pr -->\n<g id=\"node13\" class=\"node\">\n<title>pr</title>\n<polygon fill=\"none\" stroke=\"black\" points=\"803.48,-332.62 776.48,-314.62 803.48,-296.62 830.48,-314.62 803.48,-332.62\"/>\n<text text-anchor=\"middle\" x=\"803.48\" y=\"-310.92\" font-family=\"Times,serif\" font-size=\"14.00\">pr</text>\n</g>\n<!-- subjectArchivedSpecimen&#45;&gt;pr -->\n<g id=\"edge13\" class=\"edge\">\n<title>subjectArchivedSpecimen&#45;&gt;pr</title>\n<path fill=\"none\" stroke=\"black\" d=\"M820.76,-526.56C817.5,-486.48 809.61,-389.83 805.73,-342.16\"/>\n<polygon fill=\"black\" stroke=\"black\" points=\"809.19,-341.64 804.89,-331.96 802.22,-342.21 809.19,-341.64\"/>\n<text text-anchor=\"middle\" x=\"906.75\" y=\"-438.16\" font-family=\"Times,serif\" font-size=\"14.00\">obo:TXPO_0001873 (has finding)</text>\n</g>\n<!-- her2 -->\n<g id=\"node15\" class=\"node\">\n<title>her2</title>\n<polygon fill=\"none\" stroke=\"black\" points=\"478.41,-554.68 440.54,-536.68 478.41,-518.68 516.28,-536.68 478.41,-554.68\"/>\n<text text-anchor=\"middle\" x=\"478.41\" y=\"-532.98\" font-family=\"Times,serif\" font-size=\"14.00\">her2</text>\n</g>\n<!-- subjectArchivedSpecimen&#45;&gt;her2 -->\n<g id=\"edge17\" class=\"edge\">\n<title>subjectArchivedSpecimen&#45;&gt;her2</title>\n<path fill=\"none\" stroke=\"black\" d=\"M698.59,-541.75C638.35,-540.36 569.5,-538.78 525.07,-537.75\"/>\n<polygon fill=\"black\" stroke=\"black\" points=\"524.95,-534.25 514.87,-537.52 524.79,-541.25 524.95,-534.25\"/>\n<text text-anchor=\"middle\" x=\"611.83\" y=\"-528.55\" font-family=\"Times,serif\" font-size=\"14.00\">obo:TXPO_0001873 (has finding)</text>\n</g>\n<!-- brcamutation -->\n<g id=\"node17\" class=\"node\">\n<title>brcamutation</title>\n<polygon fill=\"none\" stroke=\"black\" points=\"609.81,-662.5 528.2,-644.5 609.81,-626.5 691.42,-644.5 609.81,-662.5\"/>\n<text text-anchor=\"middle\" x=\"609.81\" y=\"-640.8\" font-family=\"Times,serif\" font-size=\"14.00\">brcamutation</text>\n</g>\n<!-- subjectArchivedSpecimen&#45;&gt;brcamutation -->\n<g id=\"edge21\" class=\"edge\">\n<title>subjectArchivedSpecimen&#45;&gt;brcamutation</title>\n<path fill=\"none\" stroke=\"black\" d=\"M791.8,-558.92C753.06,-577.14 686.25,-608.55 645.26,-627.83\"/>\n<polygon fill=\"black\" stroke=\"black\" points=\"643.73,-624.68 636.17,-632.1 646.71,-631.02 643.73,-624.68\"/>\n<text text-anchor=\"middle\" x=\"625.03\" y=\"-597.18\" font-family=\"Times,serif\" font-size=\"14.00\">obo:TXPO_0001873 (has finding)</text>\n</g>\n<!-- NCIT_C25209 -->\n<g id=\"node10\" class=\"node\">\n<title>NCIT_C25209</title>\n<ellipse fill=\"none\" stroke=\"black\" cx=\"661.09\" cy=\"-451.86\" rx=\"135.68\" ry=\"18\"/>\n<text text-anchor=\"middle\" x=\"661.09\" y=\"-448.16\" font-family=\"Times,serif\" font-size=\"14.00\">obo:NCIT_C25209 (Measurement)</text>\n</g>\n<!-- er&#45;&gt;NCIT_C25209 -->\n<g id=\"edge8\" class=\"edge\">\n<title>er&#45;&gt;NCIT_C25209</title>\n<path fill=\"none\" stroke=\"black\" d=\"M637.24,-270.84C641.72,-304.8 651.86,-381.73 657.36,-423.54\"/>\n<polygon fill=\"black\" stroke=\"black\" points=\"653.91,-424.15 658.69,-433.61 660.85,-423.23 653.91,-424.15\"/>\n<text text-anchor=\"middle\" x=\"609.8\" y=\"-350.99\" font-family=\"Times,serif\" font-size=\"14.00\">rdf:type (is a)</text>\n</g>\n<!-- NCIT_C16150 -->\n<g id=\"node11\" class=\"node\">\n<title>NCIT_C16150</title>\n<ellipse fill=\"none\" stroke=\"black\" cx=\"512.51\" cy=\"-18\" rx=\"176.57\" ry=\"18\"/>\n<text text-anchor=\"middle\" x=\"512.51\" y=\"-14.3\" font-family=\"Times,serif\" font-size=\"14.00\">obo:NCIT_C16150 (Estrogen Receptor Status)</text>\n</g>\n<!-- er&#45;&gt;NCIT_C16150 -->\n<g id=\"edge10\" class=\"edge\">\n<title>er&#45;&gt;NCIT_C16150</title>\n<path fill=\"none\" stroke=\"black\" d=\"M627.91,-240.26C608.23,-202.37 552.85,-95.7 526.62,-45.18\"/>\n<polygon fill=\"black\" stroke=\"black\" points=\"529.64,-43.41 521.93,-36.15 523.43,-46.63 529.64,-43.41\"/>\n<text text-anchor=\"middle\" x=\"506.26\" y=\"-146.52\" font-family=\"Times,serif\" font-size=\"14.00\">rdfs:domain (has domain)</text>\n</g>\n<!-- TrueFalse -->\n<g id=\"node12\" class=\"node\">\n<title>TrueFalse</title>\n<polygon fill=\"none\" stroke=\"black\" points=\"511.6,-361.46 511.6,-407.46 565.6,-407.46 565.6,-361.46 511.6,-361.46\"/>\n<text text-anchor=\"middle\" x=\"538.6\" y=\"-392.26\" font-family=\"Times,serif\" font-size=\"14.00\">True</text>\n<polyline fill=\"none\" stroke=\"black\" points=\"511.6,-384.46 565.6,-384.46\"/>\n<text text-anchor=\"middle\" x=\"538.6\" y=\"-369.26\" font-family=\"Times,serif\" font-size=\"14.00\">False</text>\n</g>\n<!-- er&#45;&gt;TrueFalse -->\n<g id=\"edge11\" class=\"edge\">\n<title>er&#45;&gt;TrueFalse</title>\n<path fill=\"none\" stroke=\"black\" d=\"M625.78,-266.48C611.17,-286.25 582.3,-325.32 561.79,-353.08\"/>\n<polygon fill=\"black\" stroke=\"black\" points=\"558.85,-351.17 555.72,-361.3 564.48,-355.33 558.85,-351.17\"/>\n<text text-anchor=\"middle\" x=\"548.28\" y=\"-313.58\" font-family=\"Times,serif\" font-size=\"14.00\">rdf:value (value)</text>\n</g>\n<!-- pr&#45;&gt;NCIT_C25209 -->\n<g id=\"edge12\" class=\"edge\">\n<title>pr&#45;&gt;NCIT_C25209</title>\n<path fill=\"none\" stroke=\"black\" d=\"M792.31,-325.39C769.82,-347.06 718.59,-396.44 687.21,-426.69\"/>\n<polygon fill=\"black\" stroke=\"black\" points=\"684.46,-424.48 679.69,-433.94 689.32,-429.52 684.46,-424.48\"/>\n<text text-anchor=\"middle\" x=\"702.26\" y=\"-379.84\" font-family=\"Times,serif\" font-size=\"14.00\">rdf:type (is a)</text>\n</g>\n<!-- pr&#45;&gt;TrueFalse -->\n<g id=\"edge15\" class=\"edge\">\n<title>pr&#45;&gt;TrueFalse</title>\n<path fill=\"none\" stroke=\"black\" d=\"M784,-319.76C740.05,-331.35 632.55,-359.69 575.52,-374.73\"/>\n<polygon fill=\"black\" stroke=\"black\" points=\"574.6,-371.35 565.82,-377.29 576.39,-378.12 574.6,-371.35\"/>\n<text text-anchor=\"middle\" x=\"725.26\" y=\"-351.04\" font-family=\"Times,serif\" font-size=\"14.00\">rdf:value (value)</text>\n</g>\n<!-- NCIT_C16149 -->\n<g id=\"node14\" class=\"node\">\n<title>NCIT_C16149</title>\n<ellipse fill=\"none\" stroke=\"black\" cx=\"936.68\" cy=\"-99.1\" rx=\"191.17\" ry=\"18\"/>\n<text text-anchor=\"middle\" x=\"936.68\" y=\"-95.4\" font-family=\"Times,serif\" font-size=\"14.00\">obo:NCIT_C16149 (Progesterone Receptor Status)</text>\n</g>\n<!-- pr&#45;&gt;NCIT_C16149 -->\n<g id=\"edge14\" class=\"edge\">\n<title>pr&#45;&gt;NCIT_C16149</title>\n<path fill=\"none\" stroke=\"black\" d=\"M811.41,-301.79C832.68,-267.38 891.29,-172.54 920.17,-125.82\"/>\n<polygon fill=\"black\" stroke=\"black\" points=\"923.25,-127.49 925.53,-117.15 917.29,-123.81 923.25,-127.49\"/>\n<text text-anchor=\"middle\" x=\"794.79\" y=\"-217.6\" font-family=\"Times,serif\" font-size=\"14.00\">rdfs:domain (has domain)</text>\n</g>\n<!-- her2&#45;&gt;NCIT_C25209 -->\n<g id=\"edge16\" class=\"edge\">\n<title>her2&#45;&gt;NCIT_C25209</title>\n<path fill=\"none\" stroke=\"black\" d=\"M497.62,-527.76C525.06,-515.02 576.37,-491.2 614.21,-473.63\"/>\n<polygon fill=\"black\" stroke=\"black\" points=\"615.92,-476.69 623.52,-469.31 612.97,-470.34 615.92,-476.69\"/>\n<text text-anchor=\"middle\" x=\"518.41\" y=\"-504.49\" font-family=\"Times,serif\" font-size=\"14.00\">rdf:type (is a)</text>\n</g>\n<!-- her2&#45;&gt;TrueFalse -->\n<g id=\"edge19\" class=\"edge\">\n<title>her2&#45;&gt;TrueFalse</title>\n<path fill=\"none\" stroke=\"black\" d=\"M484.51,-521.24C494.13,-496.93 513.01,-449.17 525.73,-417.02\"/>\n<polygon fill=\"black\" stroke=\"black\" points=\"529.03,-418.18 529.45,-407.59 522.52,-415.6 529.03,-418.18\"/>\n<text text-anchor=\"middle\" x=\"459.62\" y=\"-472.93\" font-family=\"Times,serif\" font-size=\"14.00\">rdf:value (value)</text>\n</g>\n<!-- NCIT_C184942 -->\n<g id=\"node16\" class=\"node\">\n<title>NCIT_C184942</title>\n<ellipse fill=\"none\" stroke=\"black\" cx=\"217.73\" cy=\"-588.85\" rx=\"217.96\" ry=\"18\"/>\n<text text-anchor=\"middle\" x=\"217.73\" y=\"-585.15\" font-family=\"Times,serif\" font-size=\"14.00\">obo:NCIT_C184942 (HER2 Copy Number Measurement)</text>\n</g>\n<!-- her2&#45;&gt;NCIT_C184942 -->\n<g id=\"edge18\" class=\"edge\">\n<title>her2&#45;&gt;NCIT_C184942</title>\n<path fill=\"none\" stroke=\"black\" d=\"M451.49,-542.06C418.45,-548.68 360.64,-560.25 310.78,-570.23\"/>\n<polygon fill=\"black\" stroke=\"black\" points=\"310.04,-566.81 300.92,-572.2 311.41,-573.67 310.04,-566.81\"/>\n<text text-anchor=\"middle\" x=\"310.14\" y=\"-544.95\" font-family=\"Times,serif\" font-size=\"14.00\">rdfs:domain (has domain)</text>\n</g>\n<!-- brcamutation&#45;&gt;NCIT_C25209 -->\n<g id=\"edge20\" class=\"edge\">\n<title>brcamutation&#45;&gt;NCIT_C25209</title>\n<path fill=\"none\" stroke=\"black\" d=\"M614.36,-627.41C623.22,-594.11 642.87,-520.31 653.65,-479.81\"/>\n<polygon fill=\"black\" stroke=\"black\" points=\"657.06,-480.6 656.26,-470.04 650.3,-478.8 657.06,-480.6\"/>\n<text text-anchor=\"middle\" x=\"596.51\" y=\"-557.41\" font-family=\"Times,serif\" font-size=\"14.00\">rdf:type (is a)</text>\n</g>\n<!-- brcamutation&#45;&gt;TrueFalse -->\n<g id=\"edge23\" class=\"edge\">\n<title>brcamutation&#45;&gt;TrueFalse</title>\n<path fill=\"none\" stroke=\"black\" d=\"M605.14,-627.44C593.49,-584.89 562.98,-473.5 547.66,-417.54\"/>\n<polygon fill=\"black\" stroke=\"black\" points=\"551,-416.49 544.98,-407.77 544.25,-418.34 551,-416.49\"/>\n<text text-anchor=\"middle\" x=\"621.9\" y=\"-511.29\" font-family=\"Times,serif\" font-size=\"14.00\">rdf:value (value)</text>\n</g>\n<!-- NCIT_C179406 -->\n<g id=\"node18\" class=\"node\">\n<title>NCIT_C179406</title>\n<ellipse fill=\"none\" stroke=\"black\" cx=\"462.58\" cy=\"-858.3\" rx=\"170.87\" ry=\"18\"/>\n<text text-anchor=\"middle\" x=\"462.58\" y=\"-854.6\" font-family=\"Times,serif\" font-size=\"14.00\">obo:NCIT_C179406 (BRCA Gene Mutation)</text>\n</g>\n<!-- brcamutation&#45;&gt;NCIT_C179406 -->\n<g id=\"edge22\" class=\"edge\">\n<title>brcamutation&#45;&gt;NCIT_C179406</title>\n<path fill=\"none\" stroke=\"black\" d=\"M598.99,-660.22C573.96,-696.57 511.87,-786.73 480.84,-831.79\"/>\n<polygon fill=\"black\" stroke=\"black\" points=\"477.86,-829.95 475.07,-840.17 483.62,-833.92 477.86,-829.95\"/>\n<text text-anchor=\"middle\" x=\"468.91\" y=\"-749.81\" font-family=\"Times,serif\" font-size=\"14.00\">rdfs:domain (has domain)</text>\n</g>\n<!-- OBI_0002393 -->\n<g id=\"node20\" class=\"node\">\n<title>OBI_0002393</title>\n<ellipse fill=\"none\" stroke=\"black\" cx=\"1630\" cy=\"-370.32\" rx=\"148.67\" ry=\"18\"/>\n<text text-anchor=\"middle\" x=\"1630\" y=\"-366.62\" font-family=\"Times,serif\" font-size=\"14.00\">obo:OBI_0002393 (Pregnancy history)</text>\n</g>\n<!-- pregnancyhistory&#45;&gt;OBI_0002393 -->\n<g id=\"edge24\" class=\"edge\">\n<title>pregnancyhistory&#45;&gt;OBI_0002393</title>\n<path fill=\"none\" stroke=\"black\" d=\"M1585.66,-571.29C1593.99,-533.53 1613.71,-444.15 1623.81,-398.39\"/>\n<polygon fill=\"black\" stroke=\"black\" points=\"1627.25,-399.05 1625.98,-388.53 1620.41,-397.54 1627.25,-399.05\"/>\n<text text-anchor=\"middle\" x=\"1567.23\" y=\"-488.64\" font-family=\"Times,serif\" font-size=\"14.00\">rdf:type (is a)</text>\n</g>\n<!-- offspring -->\n<g id=\"node21\" class=\"node\">\n<title>offspring</title>\n<polygon fill=\"none\" stroke=\"black\" points=\"1916.64,-552.72 1855.81,-534.72 1916.64,-516.72 1977.47,-534.72 1916.64,-552.72\"/>\n<text text-anchor=\"middle\" x=\"1916.64\" y=\"-531.02\" font-family=\"Times,serif\" font-size=\"14.00\">offspring</text>\n</g>\n<!-- pregnancyhistory&#45;&gt;offspring -->\n<g id=\"edge27\" class=\"edge\">\n<title>pregnancyhistory&#45;&gt;offspring</title>\n<path fill=\"none\" stroke=\"black\" d=\"M1634.85,-580.23C1698.61,-569.93 1804.76,-552.79 1866.98,-542.74\"/>\n<polygon fill=\"black\" stroke=\"black\" points=\"1867.63,-546.18 1876.94,-541.13 1866.51,-539.27 1867.63,-546.18\"/>\n<text text-anchor=\"middle\" x=\"1666.41\" y=\"-550.28\" font-family=\"Times,serif\" font-size=\"14.00\">schema:children (has children)</text>\n</g>\n<!-- seq -->\n<g id=\"node22\" class=\"node\">\n<title>seq</title>\n<ellipse fill=\"none\" stroke=\"black\" cx=\"2103.41\" cy=\"-672.21\" rx=\"110.48\" ry=\"18\"/>\n<text text-anchor=\"middle\" x=\"2103.41\" y=\"-668.51\" font-family=\"Times,serif\" font-size=\"14.00\">rdf:seq (sequence container)</text>\n</g>\n<!-- offspring&#45;&gt;seq -->\n<g id=\"edge26\" class=\"edge\">\n<title>offspring&#45;&gt;seq</title>\n<path fill=\"none\" stroke=\"black\" d=\"M1934.21,-547.65C1965.45,-570.65 2031.08,-618.97 2070.8,-648.2\"/>\n<polygon fill=\"black\" stroke=\"black\" points=\"2069.21,-651.38 2079.34,-654.49 2073.36,-645.74 2069.21,-651.38\"/>\n<text text-anchor=\"middle\" x=\"1965.01\" y=\"-601.73\" font-family=\"Times,serif\" font-size=\"14.00\">rdf:type (is a)</text>\n</g>\n<!-- lastchild -->\n<g id=\"node23\" class=\"node\">\n<title>lastchild</title>\n<polygon fill=\"none\" stroke=\"black\" points=\"2130.46,-379.65 2073.48,-361.65 2130.46,-343.65 2187.44,-361.65 2130.46,-379.65\"/>\n<text text-anchor=\"middle\" x=\"2130.46\" y=\"-357.95\" font-family=\"Times,serif\" font-size=\"14.00\">lastchild</text>\n</g>\n<!-- offspring&#45;&gt;lastchild -->\n<g id=\"edge29\" class=\"edge\">\n<title>offspring&#45;&gt;lastchild</title>\n<path fill=\"none\" stroke=\"black\" d=\"M1933.07,-521.42C1970.55,-491.08 2062.54,-416.63 2106.42,-381.11\"/>\n<polygon fill=\"black\" stroke=\"black\" points=\"2108.7,-383.76 2114.27,-374.75 2104.3,-378.32 2108.7,-383.76\"/>\n<text text-anchor=\"middle\" x=\"1954.74\" y=\"-455.07\" font-family=\"Times,serif\" font-size=\"14.00\">foaf:member (member)</text>\n</g>\n<!-- NCIT_C25551 -->\n<g id=\"node24\" class=\"node\">\n<title>NCIT_C25551</title>\n<ellipse fill=\"none\" stroke=\"black\" cx=\"2308.44\" cy=\"-225.59\" rx=\"102.88\" ry=\"18\"/>\n<text text-anchor=\"middle\" x=\"2308.44\" y=\"-221.89\" font-family=\"Times,serif\" font-size=\"14.00\">obo:NCIT_C25551 (Last)</text>\n</g>\n<!-- lastchild&#45;&gt;NCIT_C25551 -->\n<g id=\"edge28\" class=\"edge\">\n<title>lastchild&#45;&gt;NCIT_C25551</title>\n<path fill=\"none\" stroke=\"black\" d=\"M2147.2,-348.85C2176.89,-326.16 2239.18,-278.54 2277.06,-249.58\"/>\n<polygon fill=\"black\" stroke=\"black\" points=\"2279.39,-252.2 2285.21,-243.35 2275.14,-246.64 2279.39,-252.2\"/>\n<text text-anchor=\"middle\" x=\"2087.13\" y=\"-303.02\" font-family=\"Times,serif\" font-size=\"14.00\">obo:STATO_0000382 (has order in sequence)</text>\n</g>\n</g>\n</svg>\n",
      "text/plain": "<graphviz.graphs.Digraph at 0x1322e5a00>"
     },
     "execution_count": 91,
     "metadata": {},
     "output_type": "execute_result"
    }
   ],
   "source": [
    "xls = pd.ExcelFile('TNBC_Common_Metadata_2022.09.07.xlsx')\n",
    "subjects = pd.read_excel(xls, \"Application profile\")\n",
    "\n",
    "schema = graphviz.Digraph()\n",
    "#schema.graph_attr['layout'] = 'dot' # hierarchical or layered drawings of directed graphs\n",
    "#schema.graph_attr['layout'] = 'neato' # “spring model” layouts.\n",
    "#schema.graph_attr['layout'] = 'fdp' # stands for Force-Directed Placement.\n",
    "schema.graph_attr['layout'] = 'sfdp' # stands for Scalable Force-Directed Placement.\n",
    "#schema.graph_attr['layout'] = 'osage' # draws clustered graphs.\n",
    "#schema.graph_attr['layout'] = 'patchwork' # draws map of clustered graph using a squarified treemap layout..\n",
    "shapeIDs=[]\n",
    "classes = []\n",
    "datatypes = []\n",
    "\n",
    "for index, row in subjects.iterrows():\n",
    "    if row[\"shapeID\"] not in shapeIDs:\n",
    "        schema.attr('node', shape=symbol[\"uri\"])\n",
    "        schema.node(row['shapeID'], shape=symbol[\"uri\"])\n",
    "    if row[\"valueNodeType\"] == \"iri\":\n",
    "        if not pd.isnull(row[\"valueShape\"]):\n",
    "            schema.edge(row[\"shapeID\"], row['valueShape'], label=row[\"propertyID\"]+\" (\"+row[\"propertyLabel\"]+\")\")\n",
    "        if not pd.isnull(row[\"valueConstraint\"]):\n",
    "            values = row[\"valueConstraint\"].split(\",\")\n",
    "            valuesLabel = row[\"valueConstraintLabel\"].split(\",\")\n",
    "            schema.attr('node', shape=symbol[\"oneof\"])\n",
    "            concatvalues = []\n",
    "            for i, term in enumerate(values):\n",
    "                if term.split(\":\")[1] not in classes:\n",
    "                    classes.append(term.split(\":\")[1])\n",
    "                concatvalues.append(term+\" (\"+valuesLabel[i]+\")\")\n",
    "            schema.node(\"\".join(valuesLabel), shape=symbol['oneOf'], label=\"{ \"+\"|\".join(concatvalues)+\" }\")\n",
    "            if row[\"valueConstraint\"].split(\":\")[1] not in classes:\n",
    "                classes.append(row[\"valueConstraint\"].split(\":\")[1])\n",
    "                schema.attr('node', shape=symbol[\"uri\"])\n",
    "                schema.node(row[\"valueConstraint\"].split(\":\")[1], shape=symbol['class'], label=row[\"valueConstraint\"] + \" (\"+row[\"valueConstraintLabel\"]+\")\")\n",
    "            schema.edge(row[\"shapeID\"], row[\"valueConstraint\"].split(\":\")[1] , label=row[\"propertyID\"]+\" (\"+row[\"propertyLabel\"]+\")\")\n",
    "    if row[\"valueNodeType\"] == \"literal\":\n",
    "        if not pd.isnull(row[\"valueConstraint\"]):\n",
    "            values = row[\"valueConstraint\"].split(\",\")\n",
    "            valueLabels = row[\"valueConstraint\"].split(\",\")\n",
    "            if len(values)>1:\n",
    "                schema.node(\"\".join(values), label=\"{\"+\"|\".join(values)+\"}\")\n",
    "                schema.edge(row[\"shapeID\"], \"\".join(values), label=row[\"propertyID\"]+\" (\"+row[\"propertyLabel\"]+\")\")\n",
    "        elif not pd.isnull(row[\"valueDataType\"]):\n",
    "            if row[\"valueDataType\"] not in datatypes:\n",
    "                datatypes.append(row[\"valueDataType\"])\n",
    "                schema.attr('node', shape=symbol[\"datatype\"])\n",
    "                schema.node(row[\"valueDataType\"].replace(\":\", \"_\"), label=row[\"valueDataType\"])\n",
    "                schema.edge(row[\"shapeID\"], row[\"valueDataType\"].replace(\":\", \"_\"), label=row[\"propertyID\"]+\" (\"+row[\"propertyLabel\"]+\")\")\n",
    "schema"
   ],
   "metadata": {
    "collapsed": false,
    "pycharm": {
     "name": "#%%\n"
    }
   }
  },
  {
   "cell_type": "code",
   "execution_count": 67,
   "outputs": [],
   "source": [
    "def add2graphviz(command=None, arg1=None, arg2=None, shape=None, label=None):\n",
    "    if command == \"attr\":\n",
    "        localviz.attr(arg1, shape=shape)\n",
    "        schema.attr(arg1, shape=shape)\n",
    "    if command == \"node\":\n",
    "        localviz.node(arg1,label=label)\n",
    "        schema.node(arg1,label=label)\n",
    "    if command == \"edge\":\n",
    "        localviz.edge(arg1, arg2, label=label)\n",
    "        schema.edge(arg1, arg2, label=label)"
   ],
   "metadata": {
    "collapsed": false,
    "pycharm": {
     "name": "#%%\n"
    }
   }
  },
  {
   "cell_type": "code",
   "execution_count": 14,
   "outputs": [
    {
     "data": {
      "image/svg+xml": "<?xml version=\"1.0\" encoding=\"UTF-8\" standalone=\"no\"?>\n<!DOCTYPE svg PUBLIC \"-//W3C//DTD SVG 1.1//EN\"\n \"http://www.w3.org/Graphics/SVG/1.1/DTD/svg11.dtd\">\n<!-- Generated by graphviz version 6.0.1 (20220911.1526)\n -->\n<!-- Pages: 1 -->\n<svg width=\"281pt\" height=\"131pt\"\n viewBox=\"0.00 0.00 280.86 131.00\" xmlns=\"http://www.w3.org/2000/svg\" xmlns:xlink=\"http://www.w3.org/1999/xlink\">\n<g id=\"graph0\" class=\"graph\" transform=\"scale(1 1) rotate(0) translate(4 127)\">\n<polygon fill=\"white\" stroke=\"none\" points=\"-4,4 -4,-127 276.86,-127 276.86,4 -4,4\"/>\n<!-- subject -->\n<g id=\"node1\" class=\"node\">\n<title>subject</title>\n<polygon fill=\"none\" stroke=\"black\" points=\"103.86,-123 51.58,-105 103.86,-87 156.15,-105 103.86,-123\"/>\n<text text-anchor=\"middle\" x=\"103.86\" y=\"-101.3\" font-family=\"Times,serif\" font-size=\"14.00\">Subject</text>\n</g>\n<!-- subjectProperties -->\n<g id=\"node2\" class=\"node\">\n<title>subjectProperties</title>\n<polygon fill=\"none\" stroke=\"black\" points=\"103.86,-36 0.14,-18 103.86,0 207.59,-18 103.86,-36\"/>\n<text text-anchor=\"middle\" x=\"103.86\" y=\"-14.3\" font-family=\"Times,serif\" font-size=\"14.00\">subject properties</text>\n</g>\n<!-- subject&#45;&gt;subjectProperties -->\n<g id=\"edge1\" class=\"edge\">\n<title>subject&#45;&gt;subjectProperties</title>\n<path fill=\"none\" stroke=\"black\" d=\"M103.86,-86.8C103.86,-75.16 103.86,-59.55 103.86,-46.24\"/>\n<polygon fill=\"black\" stroke=\"black\" points=\"107.36,-46.18 103.86,-36.18 100.36,-46.18 107.36,-46.18\"/>\n<text text-anchor=\"middle\" x=\"188.36\" y=\"-57.8\" font-family=\"Times,serif\" font-size=\"14.00\">sio:SIO_000223 (has property)</text>\n</g>\n</g>\n</svg>\n",
      "text/plain": "<graphviz.graphs.Digraph at 0x12f4a76d0>"
     },
     "execution_count": 14,
     "metadata": {},
     "output_type": "execute_result"
    }
   ],
   "source": [
    "localviz = graphviz.Digraph()\n",
    "# uri\n",
    "add2graphviz(command='attr', arg1='node', shape=symbol[\"uri\"])\n",
    "# nodes\n",
    "add2graphviz(command='node', arg1='subject', label=\"Subject\")\n",
    "add2graphviz(command='node', arg1='subjectProperties', label=\"subject properties\")\n",
    "\n",
    "#edges\n",
    "add2graphviz(command='edge', arg1='subject', arg2='subjectProperties', label='sio:SIO_000223 (has property)')\n",
    "localviz"
   ],
   "metadata": {
    "collapsed": false,
    "pycharm": {
     "name": "#%%\n"
    }
   }
  },
  {
   "cell_type": "code",
   "execution_count": 12,
   "outputs": [],
   "source": [],
   "metadata": {
    "collapsed": false,
    "pycharm": {
     "name": "#%%\n"
    }
   }
  },
  {
   "cell_type": "code",
   "execution_count": 17,
   "outputs": [],
   "source": [],
   "metadata": {
    "collapsed": false,
    "pycharm": {
     "name": "#%%\n"
    }
   }
  },
  {
   "cell_type": "code",
   "execution_count": null,
   "outputs": [],
   "source": [],
   "metadata": {
    "collapsed": false,
    "pycharm": {
     "name": "#%%\n"
    }
   }
  }
 ],
 "metadata": {
  "kernelspec": {
   "display_name": "Python 3",
   "language": "python",
   "name": "python3"
  },
  "language_info": {
   "codemirror_mode": {
    "name": "ipython",
    "version": 2
   },
   "file_extension": ".py",
   "mimetype": "text/x-python",
   "name": "python",
   "nbconvert_exporter": "python",
   "pygments_lexer": "ipython2",
   "version": "2.7.6"
  }
 },
 "nbformat": 4,
 "nbformat_minor": 0
}