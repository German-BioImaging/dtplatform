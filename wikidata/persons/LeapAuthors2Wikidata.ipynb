{
 "cells": [
  {
   "cell_type": "code",
   "execution_count": null,
   "metadata": {
    "colab": {
     "base_uri": "https://localhost:8080/"
    },
    "id": "tZS-VNasBf0J",
    "outputId": "e6197284-e222-4093-ac04-7c6bb1c14c90"
   },
   "outputs": [],
   "source": [
    "%%capture\n",
    "!pip install biopython\n",
    "!pip install wikidataintegrator\n",
    "from wikidataintegrator import wdi_core, wdi_login, wdi_helpers\n",
    "import getpass\n",
    "import pandas as pd\n",
    "from Bio import Entrez"
   ]
  },
  {
   "cell_type": "code",
   "execution_count": 6,
   "metadata": {},
   "outputs": [
    {
     "name": "stdout",
     "output_type": "stream",
     "text": [
      "username:\n",
      "andrawaag\n",
      "password:\n",
      "········\n"
     ]
    }
   ],
   "source": [
    "print(\"username:\")\n",
    "username = input()\n",
    "print(\"password:\")\n",
    "password = getpass.getpass()\n",
    "login = wdi_login.WDLogin(user=username, pwd=password)"
   ]
  },
  {
   "cell_type": "code",
   "execution_count": 7,
   "metadata": {},
   "outputs": [],
   "source": [
    "def search(query):\n",
    "    Entrez.email = 'andra@micelio.be'\n",
    "    handle = Entrez.esearch(db='pubmed',\n",
    "                            sort='relevance',\n",
    "                            retmax='500',\n",
    "                            retmode='xml',\n",
    "                            term=query)\n",
    "    results = Entrez.read(handle)\n",
    "    return results\n",
    "\n",
    "def fetch_details(id_list):\n",
    "    ids = ','.join(id_list)\n",
    "    Entrez.email = 'andra@micelio.be',\n",
    "    handle = Entrez.efetch(db='pubmed',\n",
    "                           retmode='xml',\n",
    "                           id=ids)\n",
    "    results = Entrez.read(handle)\n",
    "    return results\n",
    "\n",
    "def getDois(authorName):\n",
    "    doiList = []\n",
    "    results = fetch_details(search(authorName)['IdList'])\n",
    "    for result in results[\"PubmedArticle\"]:\n",
    "        for id in result['PubmedData']['ArticleIdList']:\n",
    "            if id.attributes['IdType'] == \"doi\":\n",
    "                 doiList.append(str(id))\n",
    "    return doiList\n",
    "\n",
    "def create_or_get_wd(dois):\n",
    "    for doi in dois:\n",
    "        print(doi, wdi_helpers.PublicationHelper(doi, id_type=\"doi\", source=\"crossref\").get_or_create(login))"
   ]
  },
  {
   "cell_type": "code",
   "execution_count": null,
   "metadata": {},
   "outputs": [
    {
     "name": "stderr",
     "output_type": "stream",
     "text": [
      "\n",
      "KeyboardInterrupt\n",
      "\n"
     ]
    }
   ],
   "source": [
    "doiList = []\n",
    "doiList2 = []\n",
    "\n",
    "doiList.append(getDois(\"Adrie JC Steyn[AU]\"))\n",
    "doiList.append(getDois(\"Assaf Zaritsky[AU]\"))\n",
    "doiList.append(getDois(\"Gunnar Carlsson[AU]\"))\n",
    "doiList.append(getDois(\"Michael Roukes[AU]\"))\n",
    "doiList.append(getDois(\"Chris Sander[AU]\"))\n",
    "doiList.append(getDois(\"Fabian Theis[AU]\"))\n",
    "doiList.append(getDois(\"Maddy Parsons[AU]\"))\n",
    "doiList.append(getDois(\"Simon Fredriksson[AU]\"))\n",
    "doiList.append(getDois(\"Shankar Subramaniam[AU]\"))\n",
    "doiList.append(getDois(\"Greg Hannon[AU]\"))\n",
    "doiList.append(getDois(\"Virginie Rozot[AU]\"))\n",
    "doiList.append(getDois(\"Denise Kirschner[AU]\"))\n",
    "doiList.append(getDois(\"Hagan Bayley[AU]\"))\n",
    "doiList.append(getDois(\"Omer Bayraktar[AU]\"))\n",
    "doiList.append(getDois(\"Stéphane Pagès[AU]\"))\n",
    "doiList.append(getDois(\"Joerg Bewersdorf[AU]\"))\n",
    "doiList.append(getDois(\"Jason Swedlow[AU]\"))\n",
    "doiList.append(getDois(\"Angus Lamond[AU]\"))\n",
    "doiList.append(getDois(\"Tom Owen-Hughes[AU]\"))\n",
    "doiList.append(getDois(\"Julian Blow[AU]\"))\n",
    "doiList.append(getDois(\"Ronald Hay[AU]\"))\n",
    "doiList.append(getDois(\"Victoria Cowling[AU]\"))\n",
    "doiList.append(getDois(\"Kasper Lippert-Rasmussen[AU]\"))\n",
    "doiList.append(getDois(\"Tomoyuki U Tanaka[AU]\"))\n",
    "doiList.append(getDois(\"Tony Ly[AU]\"))\n",
    "doiList.append(getDois(\"Federico Pelisch[AU]\"))\n",
    "doiList.append(getDois(\"Gordon G Simpson[AU]\"))\n",
    "doiList.append(getDois(\"Stéphane Pagès[AU]\"))\n",
    "doiList.append(getDois(\"Joerg Bewersdorf[AU]\"))\n",
    "\n",
    "for list in doiList:\n",
    "    for doi in list:\n",
    "        doiList2.append(doi)\n",
    "\n",
    "doiList2"
   ]
  },
  {
   "cell_type": "markdown",
   "metadata": {},
   "source": [
    "## Reconciliate with Wikidata"
   ]
  },
  {
   "cell_type": "code",
   "execution_count": null,
   "metadata": {},
   "outputs": [],
   "source": [
    "create_or_get_wd(doiList2)    "
   ]
  },
  {
   "cell_type": "code",
   "execution_count": null,
   "metadata": {},
   "outputs": [],
   "source": [
    "import csv\n",
    "with open('doiList.txt', 'w') as f:\n",
    "    for doi in doiList2:\n",
    "        f.write(doi+\"\\n\")\n"
   ]
  },
  {
   "cell_type": "code",
   "execution_count": null,
   "metadata": {},
   "outputs": [],
   "source": [
    "create_or_get_wd(getDois(\"Chris Sander[AU]\"))"
   ]
  },
  {
   "cell_type": "markdown",
   "metadata": {},
   "source": [
    "# Fabian Theis"
   ]
  },
  {
   "cell_type": "code",
   "execution_count": null,
   "metadata": {},
   "outputs": [],
   "source": [
    "create_or_get_wd(getDois(\"Fabian Theis[AU]\"))"
   ]
  },
  {
   "cell_type": "markdown",
   "metadata": {},
   "source": [
    "# Maddy Parsons"
   ]
  },
  {
   "cell_type": "code",
   "execution_count": null,
   "metadata": {},
   "outputs": [],
   "source": [
    "create_or_get_wd(getDois(\"Maddy Parsons[AU]\"))"
   ]
  },
  {
   "cell_type": "markdown",
   "metadata": {},
   "source": [
    "# Simon Fredriksson"
   ]
  },
  {
   "cell_type": "code",
   "execution_count": null,
   "metadata": {},
   "outputs": [],
   "source": [
    "create_or_get_wd(getDois(\"Simon Fredriksson[AU]\"))"
   ]
  },
  {
   "cell_type": "markdown",
   "metadata": {},
   "source": [
    "# Shankar Subramaniam"
   ]
  },
  {
   "cell_type": "code",
   "execution_count": null,
   "metadata": {},
   "outputs": [],
   "source": [
    "create_or_get_wd(getDois(\"Shankar Subramaniam[AU]\"))"
   ]
  },
  {
   "cell_type": "markdown",
   "metadata": {},
   "source": [
    "# Greg Hannon"
   ]
  },
  {
   "cell_type": "code",
   "execution_count": null,
   "metadata": {},
   "outputs": [],
   "source": [
    "create_or_get_wd(getDois(\"Greg Hannon[AU]\"))"
   ]
  },
  {
   "cell_type": "markdown",
   "metadata": {},
   "source": [
    "# Virginie Rozot"
   ]
  },
  {
   "cell_type": "code",
   "execution_count": null,
   "metadata": {},
   "outputs": [],
   "source": [
    "create_or_get_wd(getDois(\"Virginie Rozot[AU]\"))"
   ]
  },
  {
   "cell_type": "markdown",
   "metadata": {},
   "source": [
    "# Denise Kirschner,"
   ]
  },
  {
   "cell_type": "code",
   "execution_count": null,
   "metadata": {},
   "outputs": [],
   "source": [
    "create_or_get_wd(getDois(\"Denise Kirschner[AU]\"))"
   ]
  },
  {
   "cell_type": "markdown",
   "metadata": {},
   "source": [
    "# Hagan Bayley"
   ]
  },
  {
   "cell_type": "code",
   "execution_count": null,
   "metadata": {},
   "outputs": [],
   "source": [
    "create_or_get_wd(getDois(\"Hagan Bayley[AU]\"))"
   ]
  },
  {
   "cell_type": "markdown",
   "metadata": {},
   "source": [
    "# Omer Bayraktar\n"
   ]
  },
  {
   "cell_type": "code",
   "execution_count": null,
   "metadata": {},
   "outputs": [],
   "source": [
    "create_or_get_wd(getDois(\"Omer Bayraktar[AU]\"))"
   ]
  },
  {
   "cell_type": "markdown",
   "metadata": {},
   "source": [
    "# Stéphane Pagès\n"
   ]
  },
  {
   "cell_type": "code",
   "execution_count": null,
   "metadata": {},
   "outputs": [],
   "source": [
    "create_or_get_wd(getDois(\"Stéphane Pagès[AU]\"))"
   ]
  },
  {
   "cell_type": "markdown",
   "metadata": {},
   "source": [
    "# Joerg Bewersdorf"
   ]
  },
  {
   "cell_type": "code",
   "execution_count": null,
   "metadata": {},
   "outputs": [],
   "source": [
    "create_or_get_wd(getDois(\"Joerg Bewersdorf[AU]\"))"
   ]
  },
  {
   "cell_type": "code",
   "execution_count": null,
   "metadata": {},
   "outputs": [],
   "source": []
  }
 ],
 "metadata": {
  "colab": {
   "collapsed_sections": [],
   "name": "AddDoi2Wikidata.ipynb",
   "provenance": []
  },
  "kernelspec": {
   "display_name": "Python 3 (ipykernel)",
   "language": "python",
   "name": "python3"
  },
  "language_info": {
   "codemirror_mode": {
    "name": "ipython",
    "version": 3
   },
   "file_extension": ".py",
   "mimetype": "text/x-python",
   "name": "python",
   "nbconvert_exporter": "python",
   "pygments_lexer": "ipython3",
   "version": "3.8.9"
  }
 },
 "nbformat": 4,
 "nbformat_minor": 1
}